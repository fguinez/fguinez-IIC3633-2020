{
  "nbformat": 4,
  "nbformat_minor": 0,
  "metadata": {
    "colab": {
      "name": "GRU4Rec c/DT.ipynb",
      "provenance": [],
      "collapsed_sections": []
    },
    "kernelspec": {
      "name": "python3",
      "display_name": "Python 3"
    },
    "accelerator": "GPU"
  },
  "cells": [
    {
      "cell_type": "markdown",
      "metadata": {
        "id": "bcrDor7CR1SO"
      },
      "source": [
        "# Gated Recurrent Units for session-based next item prediction\n",
        "\n",
        "Patricio Cerda, Bastián Mavrakis, Denis Parra\n",
        "\n",
        "### Ambiente: Python3 + GPU\n",
        "\n",
        "## Descargar datos y repositorio"
      ]
    },
    {
      "cell_type": "code",
      "metadata": {
        "id": "nCAQDIrOPUQP",
        "colab": {
          "base_uri": "https://localhost:8080/"
        },
        "outputId": "ef1a122e-3be9-4053-aacb-da876a7801e1"
      },
      "source": [
        "# Clone repo\n",
        "!git clone https://github.com/pcerdam/KerasGRU4Rec --single-branch src"
      ],
      "execution_count": 1,
      "outputs": [
        {
          "output_type": "stream",
          "text": [
            "Cloning into 'src'...\n",
            "remote: Enumerating objects: 46, done.\u001b[K\n",
            "remote: Counting objects: 100% (46/46), done.\u001b[K\n",
            "remote: Compressing objects: 100% (30/30), done.\u001b[K\n",
            "remote: Total 207 (delta 15), reused 32 (delta 12), pack-reused 161\u001b[K\n",
            "Receiving objects: 100% (207/207), 10.58 MiB | 20.56 MiB/s, done.\n",
            "Resolving deltas: 100% (87/87), done.\n"
          ],
          "name": "stdout"
        }
      ]
    },
    {
      "cell_type": "code",
      "metadata": {
        "id": "BpccDqjDPbjI",
        "colab": {
          "base_uri": "https://localhost:8080/"
        },
        "outputId": "22a20870-3808-4a9c-f6cc-09ce78518a77"
      },
      "source": [
        "# Download RecSys Challenge 2015 dataset\n",
        "!rm -r sample_data\n",
        "!curl https://s3-eu-west-1.amazonaws.com/yc-rdata/yoochoose-data.7z --output data.7z"
      ],
      "execution_count": 2,
      "outputs": [
        {
          "output_type": "stream",
          "text": [
            "  % Total    % Received % Xferd  Average Speed   Time    Time     Time  Current\n",
            "                                 Dload  Upload   Total   Spent    Left  Speed\n",
            "100  273M  100  273M    0     0  19.2M      0  0:00:14  0:00:14 --:--:-- 22.4M\n"
          ],
          "name": "stdout"
        }
      ]
    },
    {
      "cell_type": "code",
      "metadata": {
        "id": "AJkLaRyqPp-z",
        "colab": {
          "base_uri": "https://localhost:8080/"
        },
        "outputId": "a2b0acc7-37e8-42a0-a296-81cc91ba7614"
      },
      "source": [
        "# Extract dataset\n",
        "!7z e data.7z -o./rsc15\n",
        "!rm data.7z\n",
        "!mkdir data"
      ],
      "execution_count": 3,
      "outputs": [
        {
          "output_type": "stream",
          "text": [
            "\n",
            "7-Zip [64] 16.02 : Copyright (c) 1999-2016 Igor Pavlov : 2016-05-21\n",
            "p7zip Version 16.02 (locale=en_US.UTF-8,Utf16=on,HugeFiles=on,64 bits,2 CPUs Intel(R) Xeon(R) CPU @ 2.20GHz (406F0),ASM,AES-NI)\n",
            "\n",
            "Scanning the drive for archives:\n",
            "  0M Scan\b\b\b\b\b\b\b\b\b         \b\b\b\b\b\b\b\b\b1 file, 287211932 bytes (274 MiB)\n",
            "\n",
            "Extracting archive: data.7z\n",
            "--\n",
            "Path = data.7z\n",
            "Type = 7z\n",
            "Physical Size = 287211932\n",
            "Headers Size = 255\n",
            "Method = LZMA:24\n",
            "Solid = +\n",
            "Blocks = 2\n",
            "\n",
            "  0%\b\b\b\b    \b\b\b\b  0% - yoochoose-buys.dat\b\b\b\b\b\b\b\b\b\b\b\b\b\b\b\b\b\b\b\b\b\b\b\b\b                         \b\b\b\b\b\b\b\b\b\b\b\b\b\b\b\b\b\b\b\b\b\b\b\b\b  1% - yoochoose-buys.dat\b\b\b\b\b\b\b\b\b\b\b\b\b\b\b\b\b\b\b\b\b\b\b\b\b                         \b\b\b\b\b\b\b\b\b\b\b\b\b\b\b\b\b\b\b\b\b\b\b\b\b  2% - yoochoose-buys.dat\b\b\b\b\b\b\b\b\b\b\b\b\b\b\b\b\b\b\b\b\b\b\b\b\b                         \b\b\b\b\b\b\b\b\b\b\b\b\b\b\b\b\b\b\b\b\b\b\b\b\b  3% 1 - yoochoose-clicks.dat\b\b\b\b\b\b\b\b\b\b\b\b\b\b\b\b\b\b\b\b\b\b\b\b\b\b\b\b\b                             \b\b\b\b\b\b\b\b\b\b\b\b\b\b\b\b\b\b\b\b\b\b\b\b\b\b\b\b\b  4% 1 - yoochoose-clicks.dat\b\b\b\b\b\b\b\b\b\b\b\b\b\b\b\b\b\b\b\b\b\b\b\b\b\b\b\b\b                             \b\b\b\b\b\b\b\b\b\b\b\b\b\b\b\b\b\b\b\b\b\b\b\b\b\b\b\b\b  5% 1 - yoochoose-clicks.dat\b\b\b\b\b\b\b\b\b\b\b\b\b\b\b\b\b\b\b\b\b\b\b\b\b\b\b\b\b                             \b\b\b\b\b\b\b\b\b\b\b\b\b\b\b\b\b\b\b\b\b\b\b\b\b\b\b\b\b  6% 1 - yoochoose-clicks.dat\b\b\b\b\b\b\b\b\b\b\b\b\b\b\b\b\b\b\b\b\b\b\b\b\b\b\b\b\b                             \b\b\b\b\b\b\b\b\b\b\b\b\b\b\b\b\b\b\b\b\b\b\b\b\b\b\b\b\b  7% 1 - yoochoose-clicks.dat\b\b\b\b\b\b\b\b\b\b\b\b\b\b\b\b\b\b\b\b\b\b\b\b\b\b\b\b\b                             \b\b\b\b\b\b\b\b\b\b\b\b\b\b\b\b\b\b\b\b\b\b\b\b\b\b\b\b\b  8% 1 - yoochoose-clicks.dat\b\b\b\b\b\b\b\b\b\b\b\b\b\b\b\b\b\b\b\b\b\b\b\b\b\b\b\b\b                             \b\b\b\b\b\b\b\b\b\b\b\b\b\b\b\b\b\b\b\b\b\b\b\b\b\b\b\b\b  9% 1 - yoochoose-clicks.dat\b\b\b\b\b\b\b\b\b\b\b\b\b\b\b\b\b\b\b\b\b\b\b\b\b\b\b\b\b                             \b\b\b\b\b\b\b\b\b\b\b\b\b\b\b\b\b\b\b\b\b\b\b\b\b\b\b\b\b 10% 1 - yoochoose-clicks.dat\b\b\b\b\b\b\b\b\b\b\b\b\b\b\b\b\b\b\b\b\b\b\b\b\b\b\b\b\b                             \b\b\b\b\b\b\b\b\b\b\b\b\b\b\b\b\b\b\b\b\b\b\b\b\b\b\b\b\b 11% 1 - yoochoose-clicks.dat\b\b\b\b\b\b\b\b\b\b\b\b\b\b\b\b\b\b\b\b\b\b\b\b\b\b\b\b\b                             \b\b\b\b\b\b\b\b\b\b\b\b\b\b\b\b\b\b\b\b\b\b\b\b\b\b\b\b\b 12% 1 - yoochoose-clicks.dat\b\b\b\b\b\b\b\b\b\b\b\b\b\b\b\b\b\b\b\b\b\b\b\b\b\b\b\b\b                             \b\b\b\b\b\b\b\b\b\b\b\b\b\b\b\b\b\b\b\b\b\b\b\b\b\b\b\b\b 13% 1 - yoochoose-clicks.dat\b\b\b\b\b\b\b\b\b\b\b\b\b\b\b\b\b\b\b\b\b\b\b\b\b\b\b\b\b                             \b\b\b\b\b\b\b\b\b\b\b\b\b\b\b\b\b\b\b\b\b\b\b\b\b\b\b\b\b 14% 1 - yoochoose-clicks.dat\b\b\b\b\b\b\b\b\b\b\b\b\b\b\b\b\b\b\b\b\b\b\b\b\b\b\b\b\b                             \b\b\b\b\b\b\b\b\b\b\b\b\b\b\b\b\b\b\b\b\b\b\b\b\b\b\b\b\b 15% 1 - yoochoose-clicks.dat\b\b\b\b\b\b\b\b\b\b\b\b\b\b\b\b\b\b\b\b\b\b\b\b\b\b\b\b\b                             \b\b\b\b\b\b\b\b\b\b\b\b\b\b\b\b\b\b\b\b\b\b\b\b\b\b\b\b\b 16% 1 - yoochoose-clicks.dat\b\b\b\b\b\b\b\b\b\b\b\b\b\b\b\b\b\b\b\b\b\b\b\b\b\b\b\b\b                             \b\b\b\b\b\b\b\b\b\b\b\b\b\b\b\b\b\b\b\b\b\b\b\b\b\b\b\b\b 17% 1 - yoochoose-clicks.dat\b\b\b\b\b\b\b\b\b\b\b\b\b\b\b\b\b\b\b\b\b\b\b\b\b\b\b\b\b                             \b\b\b\b\b\b\b\b\b\b\b\b\b\b\b\b\b\b\b\b\b\b\b\b\b\b\b\b\b 18% 1 - yoochoose-clicks.dat\b\b\b\b\b\b\b\b\b\b\b\b\b\b\b\b\b\b\b\b\b\b\b\b\b\b\b\b\b                             \b\b\b\b\b\b\b\b\b\b\b\b\b\b\b\b\b\b\b\b\b\b\b\b\b\b\b\b\b 19% 1 - yoochoose-clicks.dat\b\b\b\b\b\b\b\b\b\b\b\b\b\b\b\b\b\b\b\b\b\b\b\b\b\b\b\b\b                             \b\b\b\b\b\b\b\b\b\b\b\b\b\b\b\b\b\b\b\b\b\b\b\b\b\b\b\b\b 20% 1 - yoochoose-clicks.dat\b\b\b\b\b\b\b\b\b\b\b\b\b\b\b\b\b\b\b\b\b\b\b\b\b\b\b\b\b                             \b\b\b\b\b\b\b\b\b\b\b\b\b\b\b\b\b\b\b\b\b\b\b\b\b\b\b\b\b 21% 1 - yoochoose-clicks.dat\b\b\b\b\b\b\b\b\b\b\b\b\b\b\b\b\b\b\b\b\b\b\b\b\b\b\b\b\b                             \b\b\b\b\b\b\b\b\b\b\b\b\b\b\b\b\b\b\b\b\b\b\b\b\b\b\b\b\b 22% 1 - yoochoose-clicks.dat\b\b\b\b\b\b\b\b\b\b\b\b\b\b\b\b\b\b\b\b\b\b\b\b\b\b\b\b\b                             \b\b\b\b\b\b\b\b\b\b\b\b\b\b\b\b\b\b\b\b\b\b\b\b\b\b\b\b\b 23% 1 - yoochoose-clicks.dat\b\b\b\b\b\b\b\b\b\b\b\b\b\b\b\b\b\b\b\b\b\b\b\b\b\b\b\b\b                             \b\b\b\b\b\b\b\b\b\b\b\b\b\b\b\b\b\b\b\b\b\b\b\b\b\b\b\b\b 24% 1 - yoochoose-clicks.dat\b\b\b\b\b\b\b\b\b\b\b\b\b\b\b\b\b\b\b\b\b\b\b\b\b\b\b\b\b                             \b\b\b\b\b\b\b\b\b\b\b\b\b\b\b\b\b\b\b\b\b\b\b\b\b\b\b\b\b 25% 1 - yoochoose-clicks.dat\b\b\b\b\b\b\b\b\b\b\b\b\b\b\b\b\b\b\b\b\b\b\b\b\b\b\b\b\b                             \b\b\b\b\b\b\b\b\b\b\b\b\b\b\b\b\b\b\b\b\b\b\b\b\b\b\b\b\b 26% 1 - yoochoose-clicks.dat\b\b\b\b\b\b\b\b\b\b\b\b\b\b\b\b\b\b\b\b\b\b\b\b\b\b\b\b\b                             \b\b\b\b\b\b\b\b\b\b\b\b\b\b\b\b\b\b\b\b\b\b\b\b\b\b\b\b\b 27% 1 - yoochoose-clicks.dat\b\b\b\b\b\b\b\b\b\b\b\b\b\b\b\b\b\b\b\b\b\b\b\b\b\b\b\b\b                             \b\b\b\b\b\b\b\b\b\b\b\b\b\b\b\b\b\b\b\b\b\b\b\b\b\b\b\b\b 28% 1 - yoochoose-clicks.dat\b\b\b\b\b\b\b\b\b\b\b\b\b\b\b\b\b\b\b\b\b\b\b\b\b\b\b\b\b                             \b\b\b\b\b\b\b\b\b\b\b\b\b\b\b\b\b\b\b\b\b\b\b\b\b\b\b\b\b 29% 1 - yoochoose-clicks.dat\b\b\b\b\b\b\b\b\b\b\b\b\b\b\b\b\b\b\b\b\b\b\b\b\b\b\b\b\b                             \b\b\b\b\b\b\b\b\b\b\b\b\b\b\b\b\b\b\b\b\b\b\b\b\b\b\b\b\b 30% 1 - yoochoose-clicks.dat\b\b\b\b\b\b\b\b\b\b\b\b\b\b\b\b\b\b\b\b\b\b\b\b\b\b\b\b\b                             \b\b\b\b\b\b\b\b\b\b\b\b\b\b\b\b\b\b\b\b\b\b\b\b\b\b\b\b\b 31% 1 - yoochoose-clicks.dat\b\b\b\b\b\b\b\b\b\b\b\b\b\b\b\b\b\b\b\b\b\b\b\b\b\b\b\b\b                             \b\b\b\b\b\b\b\b\b\b\b\b\b\b\b\b\b\b\b\b\b\b\b\b\b\b\b\b\b 32% 1 - yoochoose-clicks.dat\b\b\b\b\b\b\b\b\b\b\b\b\b\b\b\b\b\b\b\b\b\b\b\b\b\b\b\b\b                             \b\b\b\b\b\b\b\b\b\b\b\b\b\b\b\b\b\b\b\b\b\b\b\b\b\b\b\b\b 33% 1 - yoochoose-clicks.dat\b\b\b\b\b\b\b\b\b\b\b\b\b\b\b\b\b\b\b\b\b\b\b\b\b\b\b\b\b                             \b\b\b\b\b\b\b\b\b\b\b\b\b\b\b\b\b\b\b\b\b\b\b\b\b\b\b\b\b 34% 1 - yoochoose-clicks.dat\b\b\b\b\b\b\b\b\b\b\b\b\b\b\b\b\b\b\b\b\b\b\b\b\b\b\b\b\b                             \b\b\b\b\b\b\b\b\b\b\b\b\b\b\b\b\b\b\b\b\b\b\b\b\b\b\b\b\b 35% 1 - yoochoose-clicks.dat\b\b\b\b\b\b\b\b\b\b\b\b\b\b\b\b\b\b\b\b\b\b\b\b\b\b\b\b\b                             \b\b\b\b\b\b\b\b\b\b\b\b\b\b\b\b\b\b\b\b\b\b\b\b\b\b\b\b\b 36% 1 - yoochoose-clicks.dat\b\b\b\b\b\b\b\b\b\b\b\b\b\b\b\b\b\b\b\b\b\b\b\b\b\b\b\b\b                             \b\b\b\b\b\b\b\b\b\b\b\b\b\b\b\b\b\b\b\b\b\b\b\b\b\b\b\b\b 37% 1 - yoochoose-clicks.dat\b\b\b\b\b\b\b\b\b\b\b\b\b\b\b\b\b\b\b\b\b\b\b\b\b\b\b\b\b                             \b\b\b\b\b\b\b\b\b\b\b\b\b\b\b\b\b\b\b\b\b\b\b\b\b\b\b\b\b 38% 1 - yoochoose-clicks.dat\b\b\b\b\b\b\b\b\b\b\b\b\b\b\b\b\b\b\b\b\b\b\b\b\b\b\b\b\b                             \b\b\b\b\b\b\b\b\b\b\b\b\b\b\b\b\b\b\b\b\b\b\b\b\b\b\b\b\b 39% 1 - yoochoose-clicks.dat\b\b\b\b\b\b\b\b\b\b\b\b\b\b\b\b\b\b\b\b\b\b\b\b\b\b\b\b\b                             \b\b\b\b\b\b\b\b\b\b\b\b\b\b\b\b\b\b\b\b\b\b\b\b\b\b\b\b\b 40% 1 - yoochoose-clicks.dat\b\b\b\b\b\b\b\b\b\b\b\b\b\b\b\b\b\b\b\b\b\b\b\b\b\b\b\b\b                             \b\b\b\b\b\b\b\b\b\b\b\b\b\b\b\b\b\b\b\b\b\b\b\b\b\b\b\b\b 41% 1 - yoochoose-clicks.dat\b\b\b\b\b\b\b\b\b\b\b\b\b\b\b\b\b\b\b\b\b\b\b\b\b\b\b\b\b                             \b\b\b\b\b\b\b\b\b\b\b\b\b\b\b\b\b\b\b\b\b\b\b\b\b\b\b\b\b 42% 1 - yoochoose-clicks.dat\b\b\b\b\b\b\b\b\b\b\b\b\b\b\b\b\b\b\b\b\b\b\b\b\b\b\b\b\b                             \b\b\b\b\b\b\b\b\b\b\b\b\b\b\b\b\b\b\b\b\b\b\b\b\b\b\b\b\b 43% 1 - yoochoose-clicks.dat\b\b\b\b\b\b\b\b\b\b\b\b\b\b\b\b\b\b\b\b\b\b\b\b\b\b\b\b\b                             \b\b\b\b\b\b\b\b\b\b\b\b\b\b\b\b\b\b\b\b\b\b\b\b\b\b\b\b\b 44% 1 - yoochoose-clicks.dat\b\b\b\b\b\b\b\b\b\b\b\b\b\b\b\b\b\b\b\b\b\b\b\b\b\b\b\b\b                             \b\b\b\b\b\b\b\b\b\b\b\b\b\b\b\b\b\b\b\b\b\b\b\b\b\b\b\b\b 45% 1 - yoochoose-clicks.dat\b\b\b\b\b\b\b\b\b\b\b\b\b\b\b\b\b\b\b\b\b\b\b\b\b\b\b\b\b                             \b\b\b\b\b\b\b\b\b\b\b\b\b\b\b\b\b\b\b\b\b\b\b\b\b\b\b\b\b 46% 1 - yoochoose-clicks.dat\b\b\b\b\b\b\b\b\b\b\b\b\b\b\b\b\b\b\b\b\b\b\b\b\b\b\b\b\b                             \b\b\b\b\b\b\b\b\b\b\b\b\b\b\b\b\b\b\b\b\b\b\b\b\b\b\b\b\b 47% 1 - yoochoose-clicks.dat\b\b\b\b\b\b\b\b\b\b\b\b\b\b\b\b\b\b\b\b\b\b\b\b\b\b\b\b\b                             \b\b\b\b\b\b\b\b\b\b\b\b\b\b\b\b\b\b\b\b\b\b\b\b\b\b\b\b\b 48% 1 - yoochoose-clicks.dat\b\b\b\b\b\b\b\b\b\b\b\b\b\b\b\b\b\b\b\b\b\b\b\b\b\b\b\b\b                             \b\b\b\b\b\b\b\b\b\b\b\b\b\b\b\b\b\b\b\b\b\b\b\b\b\b\b\b\b 49% 1 - yoochoose-clicks.dat\b\b\b\b\b\b\b\b\b\b\b\b\b\b\b\b\b\b\b\b\b\b\b\b\b\b\b\b\b                             \b\b\b\b\b\b\b\b\b\b\b\b\b\b\b\b\b\b\b\b\b\b\b\b\b\b\b\b\b 50% 1 - yoochoose-clicks.dat\b\b\b\b\b\b\b\b\b\b\b\b\b\b\b\b\b\b\b\b\b\b\b\b\b\b\b\b\b                             \b\b\b\b\b\b\b\b\b\b\b\b\b\b\b\b\b\b\b\b\b\b\b\b\b\b\b\b\b 51% 1 - yoochoose-clicks.dat\b\b\b\b\b\b\b\b\b\b\b\b\b\b\b\b\b\b\b\b\b\b\b\b\b\b\b\b\b                             \b\b\b\b\b\b\b\b\b\b\b\b\b\b\b\b\b\b\b\b\b\b\b\b\b\b\b\b\b 52% 1 - yoochoose-clicks.dat\b\b\b\b\b\b\b\b\b\b\b\b\b\b\b\b\b\b\b\b\b\b\b\b\b\b\b\b\b                             \b\b\b\b\b\b\b\b\b\b\b\b\b\b\b\b\b\b\b\b\b\b\b\b\b\b\b\b\b 53% 1 - yoochoose-clicks.dat\b\b\b\b\b\b\b\b\b\b\b\b\b\b\b\b\b\b\b\b\b\b\b\b\b\b\b\b\b                             \b\b\b\b\b\b\b\b\b\b\b\b\b\b\b\b\b\b\b\b\b\b\b\b\b\b\b\b\b 54% 1 - yoochoose-clicks.dat\b\b\b\b\b\b\b\b\b\b\b\b\b\b\b\b\b\b\b\b\b\b\b\b\b\b\b\b\b                             \b\b\b\b\b\b\b\b\b\b\b\b\b\b\b\b\b\b\b\b\b\b\b\b\b\b\b\b\b 55% 1 - yoochoose-clicks.dat\b\b\b\b\b\b\b\b\b\b\b\b\b\b\b\b\b\b\b\b\b\b\b\b\b\b\b\b\b                             \b\b\b\b\b\b\b\b\b\b\b\b\b\b\b\b\b\b\b\b\b\b\b\b\b\b\b\b\b 56% 1 - yoochoose-clicks.dat\b\b\b\b\b\b\b\b\b\b\b\b\b\b\b\b\b\b\b\b\b\b\b\b\b\b\b\b\b                             \b\b\b\b\b\b\b\b\b\b\b\b\b\b\b\b\b\b\b\b\b\b\b\b\b\b\b\b\b 57% 1 - yoochoose-clicks.dat\b\b\b\b\b\b\b\b\b\b\b\b\b\b\b\b\b\b\b\b\b\b\b\b\b\b\b\b\b                             \b\b\b\b\b\b\b\b\b\b\b\b\b\b\b\b\b\b\b\b\b\b\b\b\b\b\b\b\b 58% 1 - yoochoose-clicks.dat\b\b\b\b\b\b\b\b\b\b\b\b\b\b\b\b\b\b\b\b\b\b\b\b\b\b\b\b\b                             \b\b\b\b\b\b\b\b\b\b\b\b\b\b\b\b\b\b\b\b\b\b\b\b\b\b\b\b\b 59% 1 - yoochoose-clicks.dat\b\b\b\b\b\b\b\b\b\b\b\b\b\b\b\b\b\b\b\b\b\b\b\b\b\b\b\b\b                             \b\b\b\b\b\b\b\b\b\b\b\b\b\b\b\b\b\b\b\b\b\b\b\b\b\b\b\b\b 60% 1 - yoochoose-clicks.dat\b\b\b\b\b\b\b\b\b\b\b\b\b\b\b\b\b\b\b\b\b\b\b\b\b\b\b\b\b                             \b\b\b\b\b\b\b\b\b\b\b\b\b\b\b\b\b\b\b\b\b\b\b\b\b\b\b\b\b 61% 1 - yoochoose-clicks.dat\b\b\b\b\b\b\b\b\b\b\b\b\b\b\b\b\b\b\b\b\b\b\b\b\b\b\b\b\b                             \b\b\b\b\b\b\b\b\b\b\b\b\b\b\b\b\b\b\b\b\b\b\b\b\b\b\b\b\b 62% 1 - yoochoose-clicks.dat\b\b\b\b\b\b\b\b\b\b\b\b\b\b\b\b\b\b\b\b\b\b\b\b\b\b\b\b\b                             \b\b\b\b\b\b\b\b\b\b\b\b\b\b\b\b\b\b\b\b\b\b\b\b\b\b\b\b\b 63% 1 - yoochoose-clicks.dat\b\b\b\b\b\b\b\b\b\b\b\b\b\b\b\b\b\b\b\b\b\b\b\b\b\b\b\b\b                             \b\b\b\b\b\b\b\b\b\b\b\b\b\b\b\b\b\b\b\b\b\b\b\b\b\b\b\b\b 64% 1 - yoochoose-clicks.dat\b\b\b\b\b\b\b\b\b\b\b\b\b\b\b\b\b\b\b\b\b\b\b\b\b\b\b\b\b                             \b\b\b\b\b\b\b\b\b\b\b\b\b\b\b\b\b\b\b\b\b\b\b\b\b\b\b\b\b 65% 1 - yoochoose-clicks.dat\b\b\b\b\b\b\b\b\b\b\b\b\b\b\b\b\b\b\b\b\b\b\b\b\b\b\b\b\b                             \b\b\b\b\b\b\b\b\b\b\b\b\b\b\b\b\b\b\b\b\b\b\b\b\b\b\b\b\b 66% 1 - yoochoose-clicks.dat\b\b\b\b\b\b\b\b\b\b\b\b\b\b\b\b\b\b\b\b\b\b\b\b\b\b\b\b\b                             \b\b\b\b\b\b\b\b\b\b\b\b\b\b\b\b\b\b\b\b\b\b\b\b\b\b\b\b\b 67% 1 - yoochoose-clicks.dat\b\b\b\b\b\b\b\b\b\b\b\b\b\b\b\b\b\b\b\b\b\b\b\b\b\b\b\b\b                             \b\b\b\b\b\b\b\b\b\b\b\b\b\b\b\b\b\b\b\b\b\b\b\b\b\b\b\b\b 68% 1 - yoochoose-clicks.dat\b\b\b\b\b\b\b\b\b\b\b\b\b\b\b\b\b\b\b\b\b\b\b\b\b\b\b\b\b                             \b\b\b\b\b\b\b\b\b\b\b\b\b\b\b\b\b\b\b\b\b\b\b\b\b\b\b\b\b 69% 1 - yoochoose-clicks.dat\b\b\b\b\b\b\b\b\b\b\b\b\b\b\b\b\b\b\b\b\b\b\b\b\b\b\b\b\b                             \b\b\b\b\b\b\b\b\b\b\b\b\b\b\b\b\b\b\b\b\b\b\b\b\b\b\b\b\b 70% 1 - yoochoose-clicks.dat\b\b\b\b\b\b\b\b\b\b\b\b\b\b\b\b\b\b\b\b\b\b\b\b\b\b\b\b\b                             \b\b\b\b\b\b\b\b\b\b\b\b\b\b\b\b\b\b\b\b\b\b\b\b\b\b\b\b\b 71% 1 - yoochoose-clicks.dat\b\b\b\b\b\b\b\b\b\b\b\b\b\b\b\b\b\b\b\b\b\b\b\b\b\b\b\b\b                             \b\b\b\b\b\b\b\b\b\b\b\b\b\b\b\b\b\b\b\b\b\b\b\b\b\b\b\b\b 72% 1 - yoochoose-clicks.dat\b\b\b\b\b\b\b\b\b\b\b\b\b\b\b\b\b\b\b\b\b\b\b\b\b\b\b\b\b                             \b\b\b\b\b\b\b\b\b\b\b\b\b\b\b\b\b\b\b\b\b\b\b\b\b\b\b\b\b 73% 1 - yoochoose-clicks.dat\b\b\b\b\b\b\b\b\b\b\b\b\b\b\b\b\b\b\b\b\b\b\b\b\b\b\b\b\b                             \b\b\b\b\b\b\b\b\b\b\b\b\b\b\b\b\b\b\b\b\b\b\b\b\b\b\b\b\b 74% 1 - yoochoose-clicks.dat\b\b\b\b\b\b\b\b\b\b\b\b\b\b\b\b\b\b\b\b\b\b\b\b\b\b\b\b\b                             \b\b\b\b\b\b\b\b\b\b\b\b\b\b\b\b\b\b\b\b\b\b\b\b\b\b\b\b\b 75% 1 - yoochoose-clicks.dat\b\b\b\b\b\b\b\b\b\b\b\b\b\b\b\b\b\b\b\b\b\b\b\b\b\b\b\b\b                             \b\b\b\b\b\b\b\b\b\b\b\b\b\b\b\b\b\b\b\b\b\b\b\b\b\b\b\b\b 76% 1 - yoochoose-clicks.dat\b\b\b\b\b\b\b\b\b\b\b\b\b\b\b\b\b\b\b\b\b\b\b\b\b\b\b\b\b                             \b\b\b\b\b\b\b\b\b\b\b\b\b\b\b\b\b\b\b\b\b\b\b\b\b\b\b\b\b 77% 1 - yoochoose-clicks.dat\b\b\b\b\b\b\b\b\b\b\b\b\b\b\b\b\b\b\b\b\b\b\b\b\b\b\b\b\b                             \b\b\b\b\b\b\b\b\b\b\b\b\b\b\b\b\b\b\b\b\b\b\b\b\b\b\b\b\b 78% 1 - yoochoose-clicks.dat\b\b\b\b\b\b\b\b\b\b\b\b\b\b\b\b\b\b\b\b\b\b\b\b\b\b\b\b\b                             \b\b\b\b\b\b\b\b\b\b\b\b\b\b\b\b\b\b\b\b\b\b\b\b\b\b\b\b\b 79% 1 - yoochoose-clicks.dat\b\b\b\b\b\b\b\b\b\b\b\b\b\b\b\b\b\b\b\b\b\b\b\b\b\b\b\b\b                             \b\b\b\b\b\b\b\b\b\b\b\b\b\b\b\b\b\b\b\b\b\b\b\b\b\b\b\b\b 80% 1 - yoochoose-clicks.dat\b\b\b\b\b\b\b\b\b\b\b\b\b\b\b\b\b\b\b\b\b\b\b\b\b\b\b\b\b                             \b\b\b\b\b\b\b\b\b\b\b\b\b\b\b\b\b\b\b\b\b\b\b\b\b\b\b\b\b 81% 2 - yoochoose-test.dat\b\b\b\b\b\b\b\b\b\b\b\b\b\b\b\b\b\b\b\b\b\b\b\b\b\b\b                           \b\b\b\b\b\b\b\b\b\b\b\b\b\b\b\b\b\b\b\b\b\b\b\b\b\b\b 82% 2 - yoochoose-test.dat\b\b\b\b\b\b\b\b\b\b\b\b\b\b\b\b\b\b\b\b\b\b\b\b\b\b\b                           \b\b\b\b\b\b\b\b\b\b\b\b\b\b\b\b\b\b\b\b\b\b\b\b\b\b\b 83% 2 - yoochoose-test.dat\b\b\b\b\b\b\b\b\b\b\b\b\b\b\b\b\b\b\b\b\b\b\b\b\b\b\b                           \b\b\b\b\b\b\b\b\b\b\b\b\b\b\b\b\b\b\b\b\b\b\b\b\b\b\b 84% 2 - yoochoose-test.dat\b\b\b\b\b\b\b\b\b\b\b\b\b\b\b\b\b\b\b\b\b\b\b\b\b\b\b                           \b\b\b\b\b\b\b\b\b\b\b\b\b\b\b\b\b\b\b\b\b\b\b\b\b\b\b 85% 2 - yoochoose-test.dat\b\b\b\b\b\b\b\b\b\b\b\b\b\b\b\b\b\b\b\b\b\b\b\b\b\b\b                           \b\b\b\b\b\b\b\b\b\b\b\b\b\b\b\b\b\b\b\b\b\b\b\b\b\b\b 86% 2 - yoochoose-test.dat\b\b\b\b\b\b\b\b\b\b\b\b\b\b\b\b\b\b\b\b\b\b\b\b\b\b\b                           \b\b\b\b\b\b\b\b\b\b\b\b\b\b\b\b\b\b\b\b\b\b\b\b\b\b\b 87% 2 - yoochoose-test.dat\b\b\b\b\b\b\b\b\b\b\b\b\b\b\b\b\b\b\b\b\b\b\b\b\b\b\b                           \b\b\b\b\b\b\b\b\b\b\b\b\b\b\b\b\b\b\b\b\b\b\b\b\b\b\b 88% 2 - yoochoose-test.dat\b\b\b\b\b\b\b\b\b\b\b\b\b\b\b\b\b\b\b\b\b\b\b\b\b\b\b                           \b\b\b\b\b\b\b\b\b\b\b\b\b\b\b\b\b\b\b\b\b\b\b\b\b\b\b 89% 2 - yoochoose-test.dat\b\b\b\b\b\b\b\b\b\b\b\b\b\b\b\b\b\b\b\b\b\b\b\b\b\b\b                           \b\b\b\b\b\b\b\b\b\b\b\b\b\b\b\b\b\b\b\b\b\b\b\b\b\b\b 90% 2 - yoochoose-test.dat\b\b\b\b\b\b\b\b\b\b\b\b\b\b\b\b\b\b\b\b\b\b\b\b\b\b\b                           \b\b\b\b\b\b\b\b\b\b\b\b\b\b\b\b\b\b\b\b\b\b\b\b\b\b\b 91% 2 - yoochoose-test.dat\b\b\b\b\b\b\b\b\b\b\b\b\b\b\b\b\b\b\b\b\b\b\b\b\b\b\b                           \b\b\b\b\b\b\b\b\b\b\b\b\b\b\b\b\b\b\b\b\b\b\b\b\b\b\b 92% 2 - yoochoose-test.dat\b\b\b\b\b\b\b\b\b\b\b\b\b\b\b\b\b\b\b\b\b\b\b\b\b\b\b                           \b\b\b\b\b\b\b\b\b\b\b\b\b\b\b\b\b\b\b\b\b\b\b\b\b\b\b 93% 2 - yoochoose-test.dat\b\b\b\b\b\b\b\b\b\b\b\b\b\b\b\b\b\b\b\b\b\b\b\b\b\b\b                           \b\b\b\b\b\b\b\b\b\b\b\b\b\b\b\b\b\b\b\b\b\b\b\b\b\b\b 94% 2 - yoochoose-test.dat\b\b\b\b\b\b\b\b\b\b\b\b\b\b\b\b\b\b\b\b\b\b\b\b\b\b\b                           \b\b\b\b\b\b\b\b\b\b\b\b\b\b\b\b\b\b\b\b\b\b\b\b\b\b\b 95% 2 - yoochoose-test.dat\b\b\b\b\b\b\b\b\b\b\b\b\b\b\b\b\b\b\b\b\b\b\b\b\b\b\b                           \b\b\b\b\b\b\b\b\b\b\b\b\b\b\b\b\b\b\b\b\b\b\b\b\b\b\b 96% 2 - yoochoose-test.dat\b\b\b\b\b\b\b\b\b\b\b\b\b\b\b\b\b\b\b\b\b\b\b\b\b\b\b                           \b\b\b\b\b\b\b\b\b\b\b\b\b\b\b\b\b\b\b\b\b\b\b\b\b\b\b 97% 2 - yoochoose-test.dat\b\b\b\b\b\b\b\b\b\b\b\b\b\b\b\b\b\b\b\b\b\b\b\b\b\b\b                           \b\b\b\b\b\b\b\b\b\b\b\b\b\b\b\b\b\b\b\b\b\b\b\b\b\b\b 98% 2 - yoochoose-test.dat\b\b\b\b\b\b\b\b\b\b\b\b\b\b\b\b\b\b\b\b\b\b\b\b\b\b\b                           \b\b\b\b\b\b\b\b\b\b\b\b\b\b\b\b\b\b\b\b\b\b\b\b\b\b\b 99% 2 - yoochoose-test.dat\b\b\b\b\b\b\b\b\b\b\b\b\b\b\b\b\b\b\b\b\b\b\b\b\b\b\b                           \b\b\b\b\b\b\b\b\b\b\b\b\b\b\b\b\b\b\b\b\b\b\b\b\b\b\b 99% 3\b\b\b\b\b\b      \b\b\b\b\b\bEverything is Ok\n",
            "\n",
            "Files: 4\n",
            "Size:       1914111754\n",
            "Compressed: 287211932\n"
          ],
          "name": "stdout"
        }
      ]
    },
    {
      "cell_type": "markdown",
      "metadata": {
        "id": "gpjJOcqDR945"
      },
      "source": [
        "# Preprocesar dataset"
      ]
    },
    {
      "cell_type": "code",
      "metadata": {
        "id": "7E3mSmYQR9k-"
      },
      "source": [
        "import os\n",
        "import numpy as np\n",
        "import pandas as pd\n",
        "import datetime as dt\n",
        "from matplotlib import pyplot as plt\n",
        "os.environ['TF_CPP_MIN_LOG_LEVEL'] = '3'"
      ],
      "execution_count": 4,
      "outputs": []
    },
    {
      "cell_type": "code",
      "metadata": {
        "id": "WwNyFUAHRssj"
      },
      "source": [
        "src_path = './rsc15/'\n",
        "dst_path   = './data/'"
      ],
      "execution_count": 5,
      "outputs": []
    },
    {
      "cell_type": "code",
      "metadata": {
        "id": "om43PXTNSoLu"
      },
      "source": [
        "def process(src_path, dst_path):\n",
        "  data = pd.read_csv(src_path + 'yoochoose-clicks.dat', sep=',', header=None, usecols=[0,1,2], dtype={0:np.int32, 1:str, 2:np.int64})\n",
        "  data.columns = ['SessionId', 'TimeStr', 'ItemId']\n",
        "\n",
        "  # Add timestamp\n",
        "  data['Time'] = data.TimeStr.apply(lambda x: dt.datetime.strptime(x, '%Y-%m-%dT%H:%M:%S.%fZ').timestamp())\n",
        "  del(data['TimeStr'])\n",
        "\n",
        "  # Filter by session size > 1\n",
        "  session_lengths = data.groupby('SessionId').size()  \n",
        "  data = data[np.in1d(data.SessionId, session_lengths[session_lengths>1].index)]\n",
        "  \n",
        "  # Filter by \"known\" (appears >= 5) items\n",
        "  item_supports = data.groupby('ItemId').size()\n",
        "  data = data[np.in1d(data.ItemId, item_supports[item_supports>=5].index)]\n",
        "  \n",
        "  # Filter by session size > 2\n",
        "  session_lengths = data.groupby('SessionId').size()\n",
        "  data = data[np.in1d(data.SessionId, session_lengths[session_lengths>=2].index)]\n",
        "\n",
        "  # Test split is entire last day\n",
        "  tmax = data.Time.max()\n",
        "  session_max_times = data.groupby('SessionId').Time.max()\n",
        "  \n",
        "  session_train = session_max_times[session_max_times < tmax-86400].index\n",
        "  train = data[np.in1d(data.SessionId, session_train)]\n",
        "  \n",
        "  session_test = session_max_times[session_max_times >= tmax-86400].index\n",
        "  test = data[np.in1d(data.SessionId, session_test)]\n",
        "  test = test[np.in1d(test.ItemId, train.ItemId)]\n",
        "  tslength = test.groupby('SessionId').size()\n",
        "  test = test[np.in1d(test.SessionId, tslength[tslength>=2].index)]\n",
        "  print('Test set\\n\\tEvents: {}\\n\\tSessions: {}\\n\\tItems: {}'.format(len(test), test.SessionId.nunique(), test.ItemId.nunique()))\n",
        "  test.to_csv(dst_path + 'test.tsv', sep='\\t', index=False)\n",
        "\n",
        "  # Validation: second to last day. Train: remainder\n",
        "  tmax = train.Time.max()\n",
        "  session_max_times = train.groupby('SessionId').Time.max()\n",
        "  session_train = session_max_times[session_max_times < tmax-86400].index\n",
        "  session_valid = session_max_times[session_max_times >= tmax-86400].index\n",
        "\n",
        "  train_tr = train[np.in1d(train.SessionId, session_train)]\n",
        "  valid = train[np.in1d(train.SessionId, session_valid)]\n",
        "  valid = valid[np.in1d(valid.ItemId, train_tr.ItemId)]\n",
        "  tslength = valid.groupby('SessionId').size()\n",
        "  valid = valid[np.in1d(valid.SessionId, tslength[tslength>=2].index)]\n",
        "  print('Validation set\\n\\tEvents: {}\\n\\tSessions: {}\\n\\tItems: {}'.format(len(valid), valid.SessionId.nunique(), valid.ItemId.nunique()))\n",
        "  valid.to_csv(dst_path + 'validation.tsv', sep='\\t', index=False)\n",
        "  \n",
        "  \n",
        "  print('Train set\\n\\tEvents: {}\\n\\tSessions: {}\\n\\tItems: {}'.format(len(train_tr), train_tr.SessionId.nunique(), train_tr.ItemId.nunique()))\n",
        "  train_tr.to_csv(dst_path + 'train.tsv', sep='\\t', index=False)\n"
      ],
      "execution_count": 6,
      "outputs": []
    },
    {
      "cell_type": "code",
      "metadata": {
        "id": "nc6wy4phS1v2",
        "colab": {
          "base_uri": "https://localhost:8080/"
        },
        "outputId": "9eee4832-fd84-41c8-bfe7-9ef4ee62443e"
      },
      "source": [
        "process(src_path, dst_path)  # Takes ~10 minutes"
      ],
      "execution_count": 7,
      "outputs": [
        {
          "output_type": "stream",
          "text": [
            "Test set\n",
            "\tEvents: 71222\n",
            "\tSessions: 15324\n",
            "\tItems: 6751\n",
            "Validation set\n",
            "\tEvents: 58233\n",
            "\tSessions: 12372\n",
            "\tItems: 6359\n",
            "Train set\n",
            "\tEvents: 31579006\n",
            "\tSessions: 7953885\n",
            "\tItems: 37483\n"
          ],
          "name": "stdout"
        }
      ]
    },
    {
      "cell_type": "code",
      "metadata": {
        "id": "kx_HdipUDS2z"
      },
      "source": [
        "def train_fraction(df, fraction, prefix=\"train\", path=\"./data/\"):\n",
        "    \n",
        "    length = len(df['ItemId'])\n",
        "    first_session = df.iloc[length - length//fraction].SessionId\n",
        "    df = df.loc[df['SessionId'] >= first_session]\n",
        "    itemids = df['ItemId'].unique()\n",
        "    n_items = len(itemids)\n",
        "\n",
        "    print('Fractioned data set\\n\\tEvents: {}\\n\\tSessions: {}\\n\\tItems: {}'.format(len(df), df.SessionId.nunique(), df.ItemId.nunique()))\n",
        "    filename = path + '{}_{}.tsv'.format(prefix, fraction)\n",
        "    df.to_csv(filename, sep='\\t', index=False)\n",
        "    print(\"Saved as {}\".format(filename))"
      ],
      "execution_count": 8,
      "outputs": []
    },
    {
      "cell_type": "code",
      "metadata": {
        "id": "4r1tWG1gh7eX",
        "colab": {
          "base_uri": "https://localhost:8080/"
        },
        "outputId": "8e4f3fe2-bedd-495b-fa5d-934df0dd3cb3"
      },
      "source": [
        "# Obtain most recent 1/nth fraction of train for demo purposes\n",
        "fraction = 64\n",
        "train = pd.read_csv(dst_path + 'train.tsv', sep='\\t', dtype={'ItemId':np.int64})\n",
        "train_fraction(train, fraction)\n"
      ],
      "execution_count": 9,
      "outputs": [
        {
          "output_type": "stream",
          "text": [
            "Fractioned data set\n",
            "\tEvents: 71391\n",
            "\tSessions: 17450\n",
            "\tItems: 8724\n",
            "Saved as ./data/train_64.tsv\n"
          ],
          "name": "stdout"
        }
      ]
    },
    {
      "cell_type": "markdown",
      "metadata": {
        "id": "ZWgvazVufHs6"
      },
      "source": [
        "# Entrenamiento"
      ]
    },
    {
      "cell_type": "code",
      "metadata": {
        "id": "PSPwVh4AS_GW",
        "colab": {
          "base_uri": "https://localhost:8080/"
        },
        "outputId": "ee0990d2-f479-4ff1-ea9a-ea7ea4a35242"
      },
      "source": [
        "!python src/model/gru4rec.py --epochs 200 --train-path ./data/train_64.tsv --dev-path ./data/validation.tsv --test-path ./data/test.tsv"
      ],
      "execution_count": 10,
      "outputs": [
        {
          "output_type": "stream",
          "text": [
            "Model: \"functional_1\"\n",
            "_________________________________________________________________\n",
            "Layer (type)                 Output Shape              Param #   \n",
            "=================================================================\n",
            "input_1 (InputLayer)         [(512, 1, 8725)]          0         \n",
            "_________________________________________________________________\n",
            "GRU (GRU)                    [(512, 100), (512, 100)]  2648100   \n",
            "_________________________________________________________________\n",
            "dropout (Dropout)            (512, 100)                0         \n",
            "_________________________________________________________________\n",
            "dense (Dense)                (512, 8725)               881225    \n",
            "=================================================================\n",
            "Total params: 3,529,325\n",
            "Trainable params: 3,529,325\n",
            "Non-trainable params: 0\n",
            "_________________________________________________________________\n",
            "Epoch 1. Loss: 8.35441:  97% 16929/17451 [00:12<00:00, 1347.68it/s]\n",
            "Epoch 2. Loss: 7.90964:  97% 16929/17451 [00:05<00:00, 3323.46it/s]\n",
            "Epoch 3. Loss: 7.63543:  97% 16929/17451 [00:05<00:00, 3345.48it/s]\n",
            "Epoch 4. Loss: 7.42546:  97% 16929/17451 [00:05<00:00, 3330.06it/s]\n",
            "Epoch 5. Loss: 7.29110:  97% 16929/17451 [00:05<00:00, 3348.57it/s]\n",
            "Epoch 6. Loss: 7.16004:  97% 16929/17451 [00:05<00:00, 3338.65it/s]\n",
            "Epoch 7. Loss: 7.02705:  97% 16929/17451 [00:05<00:00, 3351.13it/s]\n",
            "Epoch 8. Loss: 6.86345:  97% 16929/17451 [00:05<00:00, 3337.45it/s]\n",
            "Epoch 9. Loss: 6.68059:  97% 16929/17451 [00:05<00:00, 3314.49it/s]\n",
            "Epoch 10. Loss: 6.47208:  97% 16929/17451 [00:05<00:00, 3258.20it/s]\n",
            "Epoch 11. Loss: 6.29520:  97% 16929/17451 [00:05<00:00, 3315.21it/s]\n",
            "Epoch 12. Loss: 6.09484:  97% 16929/17451 [00:05<00:00, 3372.38it/s]\n",
            "Epoch 13. Loss: 5.94013:  97% 16929/17451 [00:05<00:00, 3353.15it/s]\n",
            "Epoch 14. Loss: 5.76365:  97% 16929/17451 [00:04<00:00, 3387.34it/s]\n",
            "Epoch 15. Loss: 5.59531:  97% 16929/17451 [00:04<00:00, 3417.86it/s]\n",
            "Epoch 16. Loss: 5.46712:  97% 16929/17451 [00:04<00:00, 3421.66it/s]\n",
            "Epoch 17. Loss: 5.30825:  97% 16929/17451 [00:05<00:00, 3350.81it/s]\n",
            "Epoch 18. Loss: 5.17054:  97% 16929/17451 [00:05<00:00, 3357.17it/s]\n",
            "Epoch 19. Loss: 5.02789:  97% 16929/17451 [00:04<00:00, 3430.26it/s]\n",
            "Epoch 20. Loss: 4.86777:  97% 16929/17451 [00:04<00:00, 3461.27it/s]\n",
            "Epoch 21. Loss: 4.71339:  97% 16929/17451 [00:04<00:00, 3458.30it/s]\n",
            "Epoch 22. Loss: 4.61714:  97% 16929/17451 [00:04<00:00, 3472.75it/s]\n",
            "Epoch 23. Loss: 4.48133:  97% 16929/17451 [00:04<00:00, 3467.12it/s]\n",
            "Epoch 24. Loss: 4.38762:  97% 16929/17451 [00:04<00:00, 3409.40it/s]\n",
            "Epoch 25. Loss: 4.28881:  97% 16929/17451 [00:04<00:00, 3430.72it/s]\n",
            "Epoch 26. Loss: 4.12764:  97% 16929/17451 [00:04<00:00, 3437.29it/s]\n",
            "Epoch 27. Loss: 4.07239:  97% 16929/17451 [00:04<00:00, 3447.07it/s]\n",
            "Epoch 28. Loss: 3.93032:  97% 16929/17451 [00:04<00:00, 3415.84it/s]\n",
            "Epoch 29. Loss: 3.84633:  97% 16929/17451 [00:04<00:00, 3442.61it/s]\n",
            "Epoch 30. Loss: 3.76037:  97% 16929/17451 [00:04<00:00, 3467.15it/s]\n",
            "Epoch 31. Loss: 3.64732:  97% 16929/17451 [00:04<00:00, 3455.06it/s]\n",
            "Epoch 32. Loss: 3.56795:  97% 16929/17451 [00:04<00:00, 3449.29it/s]\n",
            "Epoch 33. Loss: 3.49788:  97% 16929/17451 [00:04<00:00, 3456.21it/s]\n",
            "Epoch 34. Loss: 3.37771:  97% 16929/17451 [00:04<00:00, 3484.83it/s]\n",
            "Epoch 35. Loss: 3.27045:  97% 16929/17451 [00:04<00:00, 3489.27it/s]\n",
            "Epoch 36. Loss: 3.22769:  97% 16929/17451 [00:04<00:00, 3484.26it/s]\n",
            "Epoch 37. Loss: 3.16249:  97% 16929/17451 [00:04<00:00, 3465.89it/s]\n",
            "Epoch 38. Loss: 3.07615:  97% 16929/17451 [00:04<00:00, 3445.85it/s]\n",
            "Epoch 39. Loss: 3.07288:  97% 16929/17451 [00:04<00:00, 3431.22it/s]\n",
            "Epoch 40. Loss: 2.96875:  97% 16929/17451 [00:04<00:00, 3388.08it/s]\n",
            "Epoch 41. Loss: 2.91355:  97% 16929/17451 [00:04<00:00, 3421.06it/s]\n",
            "Epoch 42. Loss: 2.81936:  97% 16929/17451 [00:04<00:00, 3437.66it/s]\n",
            "Epoch 43. Loss: 2.74711:  97% 16929/17451 [00:04<00:00, 3447.12it/s]\n",
            "Epoch 44. Loss: 2.70619:  97% 16929/17451 [00:04<00:00, 3471.19it/s]\n",
            "Epoch 45. Loss: 2.68164:  97% 16929/17451 [00:04<00:00, 3451.73it/s]\n",
            "Epoch 46. Loss: 2.69067:  97% 16929/17451 [00:04<00:00, 3459.26it/s]\n",
            "Epoch 47. Loss: 2.64201:  97% 16929/17451 [00:04<00:00, 3446.54it/s]\n",
            "Epoch 48. Loss: 2.58543:  97% 16929/17451 [00:04<00:00, 3447.85it/s]\n",
            "Epoch 49. Loss: 2.51236:  97% 16929/17451 [00:04<00:00, 3476.19it/s]\n",
            "Epoch 50. Loss: 2.48605:  97% 16929/17451 [00:04<00:00, 3450.05it/s]\n",
            "Epoch 51. Loss: 2.46073:  97% 16929/17451 [00:04<00:00, 3409.17it/s]\n",
            "Epoch 52. Loss: 2.42521:  97% 16929/17451 [00:04<00:00, 3468.79it/s]\n",
            "Epoch 53. Loss: 2.40941:  97% 16929/17451 [00:04<00:00, 3434.07it/s]\n",
            "Epoch 54. Loss: 2.38157:  97% 16929/17451 [00:04<00:00, 3456.91it/s]\n",
            "Epoch 55. Loss: 2.35287:  97% 16929/17451 [00:04<00:00, 3463.25it/s]\n",
            "Epoch 56. Loss: 2.32171:  97% 16929/17451 [00:04<00:00, 3450.80it/s]\n",
            "Epoch 57. Loss: 2.34247:  97% 16929/17451 [00:04<00:00, 3425.42it/s]\n",
            "Epoch 58. Loss: 2.29345:  97% 16929/17451 [00:04<00:00, 3417.95it/s]\n",
            "Epoch 59. Loss: 2.29934:  97% 16929/17451 [00:04<00:00, 3436.17it/s]\n",
            "Epoch 60. Loss: 2.21805:  97% 16929/17451 [00:04<00:00, 3460.08it/s]\n",
            "Epoch 61. Loss: 2.23232:  97% 16929/17451 [00:04<00:00, 3440.27it/s]\n",
            "Epoch 62. Loss: 2.23024:  97% 16929/17451 [00:04<00:00, 3465.76it/s]\n",
            "Epoch 63. Loss: 2.21237:  97% 16929/17451 [00:04<00:00, 3458.71it/s]\n",
            "Epoch 64. Loss: 2.20374:  97% 16929/17451 [00:04<00:00, 3429.12it/s]\n",
            "Epoch 65. Loss: 2.14171:  97% 16929/17451 [00:04<00:00, 3432.86it/s]\n",
            "Epoch 66. Loss: 2.20145:  97% 16929/17451 [00:04<00:00, 3462.81it/s]\n",
            "Epoch 67. Loss: 2.14837:  97% 16929/17451 [00:04<00:00, 3440.05it/s]\n",
            "Epoch 68. Loss: 2.12753:  97% 16929/17451 [00:04<00:00, 3417.79it/s]\n",
            "Epoch 69. Loss: 2.12799:  97% 16929/17451 [00:04<00:00, 3444.88it/s]\n",
            "Epoch 70. Loss: 2.12310:  97% 16929/17451 [00:04<00:00, 3454.37it/s]\n",
            "Epoch 71. Loss: 2.11474:  97% 16929/17451 [00:04<00:00, 3435.00it/s]\n",
            "Epoch 72. Loss: 2.14210:  97% 16929/17451 [00:04<00:00, 3443.07it/s]\n",
            "Epoch 73. Loss: 2.10371:  97% 16929/17451 [00:04<00:00, 3424.43it/s]\n",
            "Epoch 74. Loss: 2.09392:  97% 16929/17451 [00:04<00:00, 3429.87it/s]\n",
            "Epoch 75. Loss: 2.05757:  97% 16929/17451 [00:04<00:00, 3412.38it/s]\n",
            "Epoch 76. Loss: 2.08001:  97% 16929/17451 [00:04<00:00, 3413.30it/s]\n",
            "Epoch 77. Loss: 2.07395:  97% 16929/17451 [00:05<00:00, 3293.77it/s]\n",
            "Epoch 78. Loss: 2.04885:  97% 16929/17451 [00:05<00:00, 3296.88it/s]\n",
            "Epoch 79. Loss: 2.06167:  97% 16929/17451 [00:05<00:00, 3348.76it/s]\n",
            "Epoch 80. Loss: 2.02580:  97% 16929/17451 [00:05<00:00, 3282.27it/s]\n",
            "Epoch 81. Loss: 1.97813:  97% 16929/17451 [00:05<00:00, 3288.49it/s]\n",
            "Epoch 82. Loss: 2.03726:  97% 16929/17451 [00:05<00:00, 3332.97it/s]\n",
            "Epoch 83. Loss: 2.01296:  97% 16929/17451 [00:05<00:00, 3374.67it/s]\n",
            "Epoch 84. Loss: 1.98761:  97% 16929/17451 [00:04<00:00, 3392.09it/s]\n",
            "Epoch 85. Loss: 1.95633:  97% 16929/17451 [00:04<00:00, 3411.08it/s]\n",
            "Epoch 86. Loss: 1.96501:  97% 16929/17451 [00:05<00:00, 3367.65it/s]\n",
            "Epoch 87. Loss: 1.98017:  97% 16929/17451 [00:05<00:00, 3311.33it/s]\n",
            "Epoch 88. Loss: 1.95694:  97% 16929/17451 [00:05<00:00, 3359.52it/s]\n",
            "Epoch 89. Loss: 1.97411:  97% 16929/17451 [00:05<00:00, 3353.83it/s]\n",
            "Epoch 90. Loss: 1.95024:  97% 16929/17451 [00:05<00:00, 3353.82it/s]\n",
            "Epoch 91. Loss: 1.97616:  97% 16929/17451 [00:05<00:00, 3329.24it/s]\n",
            "Epoch 92. Loss: 1.92824:  97% 16929/17451 [00:05<00:00, 3361.37it/s]\n",
            "Epoch 93. Loss: 1.91668:  97% 16929/17451 [00:05<00:00, 3343.12it/s]\n",
            "Epoch 94. Loss: 1.92923:  97% 16929/17451 [00:05<00:00, 3358.63it/s]\n",
            "Epoch 95. Loss: 1.92173:  97% 16929/17451 [00:05<00:00, 3370.32it/s]\n",
            "Epoch 96. Loss: 1.89344:  97% 16929/17451 [00:05<00:00, 3182.45it/s]\n",
            "Epoch 97. Loss: 1.89378:  97% 16929/17451 [00:05<00:00, 3284.84it/s]\n",
            "Epoch 98. Loss: 1.92165:  97% 16929/17451 [00:05<00:00, 3217.65it/s]\n",
            "Epoch 99. Loss: 1.89601:  97% 16929/17451 [00:05<00:00, 3276.21it/s]\n",
            "Epoch 100. Loss: 1.81928:  97% 16929/17451 [00:05<00:00, 3219.83it/s]\n",
            "Epoch 101. Loss: 1.82608:  97% 16929/17451 [00:05<00:00, 3146.80it/s]\n",
            "Epoch 102. Loss: 1.81717:  97% 16929/17451 [00:05<00:00, 3219.11it/s]\n",
            "Epoch 103. Loss: 1.84853:  97% 16929/17451 [00:05<00:00, 3224.48it/s]\n",
            "Epoch 104. Loss: 1.88401:  97% 16929/17451 [00:05<00:00, 3227.33it/s]\n",
            "Epoch 105. Loss: 1.88422:  97% 16929/17451 [00:05<00:00, 3202.26it/s]\n",
            "Epoch 106. Loss: 1.82388:  97% 16929/17451 [00:05<00:00, 3242.46it/s]\n",
            "Epoch 107. Loss: 1.78119:  97% 16929/17451 [00:05<00:00, 3260.89it/s]\n",
            "Epoch 108. Loss: 1.84038:  97% 16929/17451 [00:05<00:00, 3277.54it/s]\n",
            "Epoch 109. Loss: 1.85679:  97% 16929/17451 [00:05<00:00, 3305.64it/s]\n",
            "Epoch 110. Loss: 1.83546:  97% 16929/17451 [00:05<00:00, 3301.75it/s]\n",
            "Epoch 111. Loss: 1.79974:  97% 16929/17451 [00:05<00:00, 3238.53it/s]\n",
            "Epoch 112. Loss: 1.81465:  97% 16929/17451 [00:05<00:00, 3226.24it/s]\n",
            "Epoch 113. Loss: 1.83083:  97% 16929/17451 [00:05<00:00, 3303.75it/s]\n",
            "Epoch 114. Loss: 1.85869:  97% 16929/17451 [00:05<00:00, 3292.21it/s]\n",
            "Epoch 115. Loss: 1.79622:  97% 16929/17451 [00:05<00:00, 3309.08it/s]\n",
            "Epoch 116. Loss: 1.78381:  97% 16929/17451 [00:05<00:00, 3317.92it/s]\n",
            "Epoch 117. Loss: 1.83914:  97% 16929/17451 [00:05<00:00, 3314.61it/s]\n",
            "Epoch 118. Loss: 1.76377:  97% 16929/17451 [00:05<00:00, 3293.25it/s]\n",
            "Epoch 119. Loss: 1.77116:  97% 16929/17451 [00:05<00:00, 3312.18it/s]\n",
            "Epoch 120. Loss: 1.82398:  97% 16929/17451 [00:05<00:00, 3317.98it/s]\n",
            "Epoch 121. Loss: 1.80852:  97% 16929/17451 [00:05<00:00, 3265.62it/s]\n",
            "Epoch 122. Loss: 1.77421:  97% 16929/17451 [00:05<00:00, 3295.86it/s]\n",
            "Epoch 123. Loss: 1.78211:  97% 16929/17451 [00:05<00:00, 3301.65it/s]\n",
            "Epoch 124. Loss: 1.77525:  97% 16929/17451 [00:05<00:00, 3279.57it/s]\n",
            "Epoch 125. Loss: 1.76280:  97% 16929/17451 [00:05<00:00, 3341.22it/s]\n",
            "Epoch 126. Loss: 1.72840:  97% 16929/17451 [00:05<00:00, 3297.94it/s]\n",
            "Epoch 127. Loss: 1.73462:  97% 16929/17451 [00:05<00:00, 3325.65it/s]\n",
            "Epoch 128. Loss: 1.74430:  97% 16929/17451 [00:05<00:00, 3330.41it/s]\n",
            "Epoch 129. Loss: 1.77423:  97% 16929/17451 [00:05<00:00, 3350.43it/s]\n",
            "Epoch 130. Loss: 1.75690:  97% 16929/17451 [00:05<00:00, 3306.01it/s]\n",
            "Epoch 131. Loss: 1.72004:  97% 16929/17451 [00:05<00:00, 3348.43it/s]\n",
            "Epoch 132. Loss: 1.72202:  97% 16929/17451 [00:05<00:00, 3343.71it/s]\n",
            "Epoch 133. Loss: 1.73102:  97% 16929/17451 [00:05<00:00, 3368.13it/s]\n",
            "Epoch 134. Loss: 1.69914:  97% 16929/17451 [00:05<00:00, 3330.18it/s]\n",
            "Epoch 135. Loss: 1.75816:  97% 16929/17451 [00:05<00:00, 3346.82it/s]\n",
            "Epoch 136. Loss: 1.72721:  97% 16929/17451 [00:05<00:00, 3285.71it/s]\n",
            "Epoch 137. Loss: 1.70630:  97% 16929/17451 [00:05<00:00, 3351.85it/s]\n",
            "Epoch 138. Loss: 1.68759:  97% 16929/17451 [00:05<00:00, 3345.46it/s]\n",
            "Epoch 139. Loss: 1.72004:  97% 16929/17451 [00:05<00:00, 3335.88it/s]\n",
            "Epoch 140. Loss: 1.67679:  97% 16929/17451 [00:05<00:00, 3326.06it/s]\n",
            "Epoch 141. Loss: 1.70661:  97% 16929/17451 [00:05<00:00, 3194.08it/s]\n",
            "Epoch 142. Loss: 1.72947:  97% 16929/17451 [00:05<00:00, 3256.15it/s]\n",
            "Epoch 143. Loss: 1.65932:  97% 16929/17451 [00:05<00:00, 3329.15it/s]\n",
            "Epoch 144. Loss: 1.74457:  97% 16929/17451 [00:05<00:00, 3367.26it/s]\n",
            "Epoch 145. Loss: 1.68553:  97% 16929/17451 [00:05<00:00, 3325.36it/s]\n",
            "Epoch 146. Loss: 1.60808:  97% 16929/17451 [00:04<00:00, 3408.66it/s]\n",
            "Epoch 147. Loss: 1.65811:  97% 16929/17451 [00:04<00:00, 3443.45it/s]\n",
            "Epoch 148. Loss: 1.69693:  97% 16929/17451 [00:04<00:00, 3389.79it/s]\n",
            "Epoch 149. Loss: 1.67898:  97% 16929/17451 [00:04<00:00, 3437.11it/s]\n",
            "Epoch 150. Loss: 1.68805:  97% 16929/17451 [00:04<00:00, 3425.80it/s]\n",
            "Epoch 151. Loss: 1.69285:  97% 16929/17451 [00:04<00:00, 3439.20it/s]\n",
            "Epoch 152. Loss: 1.70676:  97% 16929/17451 [00:04<00:00, 3407.96it/s]\n",
            "Epoch 153. Loss: 1.69719:  97% 16929/17451 [00:05<00:00, 3375.52it/s]\n",
            "Epoch 154. Loss: 1.70143:  97% 16929/17451 [00:05<00:00, 3355.94it/s]\n",
            "Epoch 155. Loss: 1.69529:  97% 16929/17451 [00:04<00:00, 3393.17it/s]\n",
            "Epoch 156. Loss: 1.68662:  97% 16929/17451 [00:04<00:00, 3396.21it/s]\n",
            "Epoch 157. Loss: 1.63822:  97% 16929/17451 [00:04<00:00, 3425.27it/s]\n",
            "Epoch 158. Loss: 1.62081:  97% 16929/17451 [00:04<00:00, 3417.25it/s]\n",
            "Epoch 159. Loss: 1.62993:  97% 16929/17451 [00:04<00:00, 3404.96it/s]\n",
            "Epoch 160. Loss: 1.58941:  97% 16929/17451 [00:05<00:00, 3381.94it/s]\n",
            "Epoch 161. Loss: 1.63988:  97% 16929/17451 [00:04<00:00, 3396.10it/s]\n",
            "Epoch 162. Loss: 1.59282:  97% 16929/17451 [00:04<00:00, 3445.88it/s]\n",
            "Epoch 163. Loss: 1.59685:  97% 16929/17451 [00:04<00:00, 3455.13it/s]\n",
            "Epoch 164. Loss: 1.60628:  97% 16929/17451 [00:04<00:00, 3412.44it/s]\n",
            "Epoch 165. Loss: 1.67180:  97% 16929/17451 [00:04<00:00, 3426.89it/s]\n",
            "Epoch 166. Loss: 1.65120:  97% 16929/17451 [00:04<00:00, 3430.28it/s]\n",
            "Epoch 167. Loss: 1.62092:  97% 16929/17451 [00:04<00:00, 3417.66it/s]\n",
            "Epoch 168. Loss: 1.63034:  97% 16929/17451 [00:04<00:00, 3418.84it/s]\n",
            "Epoch 169. Loss: 1.62047:  97% 16929/17451 [00:04<00:00, 3401.85it/s]\n",
            "Epoch 170. Loss: 1.58531:  97% 16929/17451 [00:05<00:00, 3345.21it/s]\n",
            "Epoch 171. Loss: 1.63428:  97% 16929/17451 [00:04<00:00, 3466.02it/s]\n",
            "Epoch 172. Loss: 1.64638:  97% 16929/17451 [00:04<00:00, 3412.77it/s]\n",
            "Epoch 173. Loss: 1.58644:  97% 16929/17451 [00:04<00:00, 3423.45it/s]\n",
            "Epoch 174. Loss: 1.62777:  97% 16929/17451 [00:04<00:00, 3406.85it/s]\n",
            "Epoch 175. Loss: 1.62590:  97% 16929/17451 [00:04<00:00, 3445.12it/s]\n",
            "Epoch 176. Loss: 1.59114:  97% 16929/17451 [00:04<00:00, 3427.34it/s]\n",
            "Epoch 177. Loss: 1.67399:  97% 16929/17451 [00:04<00:00, 3446.56it/s]\n",
            "Epoch 178. Loss: 1.60783:  97% 16929/17451 [00:04<00:00, 3438.65it/s]\n",
            "Epoch 179. Loss: 1.59705:  97% 16929/17451 [00:04<00:00, 3418.44it/s]\n",
            "Epoch 180. Loss: 1.61209:  97% 16929/17451 [00:04<00:00, 3452.19it/s]\n",
            "Epoch 181. Loss: 1.59415:  97% 16929/17451 [00:04<00:00, 3441.80it/s]\n",
            "Epoch 182. Loss: 1.61775:  97% 16929/17451 [00:04<00:00, 3417.58it/s]\n",
            "Epoch 183. Loss: 1.58349:  97% 16929/17451 [00:04<00:00, 3419.14it/s]\n",
            "Epoch 184. Loss: 1.59837:  97% 16929/17451 [00:04<00:00, 3420.44it/s]\n",
            "Epoch 185. Loss: 1.55038:  97% 16929/17451 [00:04<00:00, 3397.01it/s]\n",
            "Epoch 186. Loss: 1.56189:  97% 16929/17451 [00:04<00:00, 3421.89it/s]\n",
            "Epoch 187. Loss: 1.58066:  97% 16929/17451 [00:04<00:00, 3439.03it/s]\n",
            "Epoch 188. Loss: 1.58770:  97% 16929/17451 [00:04<00:00, 3444.02it/s]\n",
            "Epoch 189. Loss: 1.57348:  97% 16929/17451 [00:04<00:00, 3443.06it/s]\n",
            "Epoch 190. Loss: 1.55862:  97% 16929/17451 [00:04<00:00, 3453.33it/s]\n",
            "Epoch 191. Loss: 1.62490:  97% 16929/17451 [00:04<00:00, 3461.82it/s]\n",
            "Epoch 192. Loss: 1.59980:  97% 16929/17451 [00:04<00:00, 3477.26it/s]\n",
            "Epoch 193. Loss: 1.55701:  97% 16929/17451 [00:04<00:00, 3447.27it/s]\n",
            "Epoch 194. Loss: 1.62700:  97% 16929/17451 [00:04<00:00, 3472.55it/s]\n",
            "Epoch 195. Loss: 1.60987:  97% 16929/17451 [00:04<00:00, 3428.85it/s]\n",
            "Epoch 196. Loss: 1.62073:  97% 16929/17451 [00:04<00:00, 3439.19it/s]\n",
            "Epoch 197. Loss: 1.54642:  97% 16929/17451 [00:04<00:00, 3459.98it/s]\n",
            "Epoch 198. Loss: 1.58363:  97% 16929/17451 [00:04<00:00, 3462.26it/s]\n",
            "Epoch 199. Loss: 1.51956:  97% 16929/17451 [00:04<00:00, 3428.66it/s]\n",
            "Evaluating model...\n",
            "\t - Recall@20 epoch 200: 0.463130\n",
            "\t - MRR@20    epoch 200: 0.163826\n",
            "\n"
          ],
          "name": "stdout"
        }
      ]
    },
    {
      "cell_type": "markdown",
      "metadata": {
        "id": "tk9EgsON-8Sr"
      },
      "source": [
        "## Resultados\n",
        "\n",
        "Luego de 200 épocas, deberías obtener un desempeño similar al siguiente:\n",
        "\n",
        "\t - Recall@20: 0.47\n",
        "\t - MRR@20   : 0.16\n",
        "\n",
        "\n",
        "Para replicar resultados del paper, utiliza el set de entrenamiento completo"
      ]
    },
    {
      "cell_type": "markdown",
      "metadata": {
        "id": "njfQIzqi_KK8"
      },
      "source": [
        "## Aprovechando información implícita: Dwell Time\n",
        "\n",
        "Podemos utilizar el tiempo que cada item fue visitado por cada usuario para realizar mejores recomendaciones.\n",
        "\n",
        "El supuesto es: a mayor tiempo de permanencia (dwell time) en un item, más interesado está el usuario en dicho item.\n",
        "\n",
        "Se hará item boosting en el set de entrenamiento."
      ]
    },
    {
      "cell_type": "code",
      "metadata": {
        "id": "lh9fruDcuVYg"
      },
      "source": [
        "def preprocess_df(df):    \n",
        "    n_items = len(df['ItemId'].unique())\n",
        "    aux = list(df['ItemId'].unique())\n",
        "    itemids = np.array(aux)\n",
        "    itemidmap = pd.Series(data=np.arange(n_items), index=itemids)  # (id_item => (0, n_items))\n",
        "    \n",
        "    item_key = 'ItemId'\n",
        "    session_key = 'SessionId'\n",
        "    time_key = 'Time'\n",
        "    \n",
        "    data = pd.merge(df, pd.DataFrame({item_key:itemids, 'ItemIdx':itemidmap[itemids].values}), on=item_key, how='inner')\n",
        "    data.sort_values([session_key, time_key], inplace=True)\n",
        "\n",
        "    length = len(data['ItemId'])\n",
        "        \n",
        "    return data"
      ],
      "execution_count": 11,
      "outputs": []
    },
    {
      "cell_type": "code",
      "metadata": {
        "id": "j5O-1YDR_vNY"
      },
      "source": [
        "def compute_dwell_time(df):\n",
        "    times_t = np.roll(df['Time'], -1) # Take time row\n",
        "    times_dt  = df['Time']            # Copy, then displace by one\n",
        "    diffs = np.subtract(times_t, times_dt) # Take pairwise difference\n",
        "    length = len(df['ItemId'])\n",
        "    \n",
        "    # cummulative offset start for each session\n",
        "    offset_sessions = np.zeros(df['SessionId'].nunique()+1, dtype=np.int32)\n",
        "    offset_sessions[1:] = df.groupby('SessionId').size().cumsum() \n",
        "    offset_sessions = offset_sessions - 1\n",
        "    offset_sessions = np.roll(offset_sessions, -1)\n",
        "    \n",
        "    np.put(diffs.values, offset_sessions, np.zeros((offset_sessions.shape)), mode='raise')\n",
        "\n",
        "    return diffs"
      ],
      "execution_count": 12,
      "outputs": []
    },
    {
      "cell_type": "code",
      "metadata": {
        "id": "7vFvOPH9Bfeq"
      },
      "source": [
        "def get_distribution(dts):\n",
        "    filtered = np.array(list(filter(lambda x: int(x) != 0, dts)))\n",
        "    pd_dts = pd.DataFrame(filtered)\n",
        "    pd_dts.boxplot(vert=False, showfliers=False)\n",
        "    plt.xlabel(\"Seconds\")\n",
        "    plt.yticks([])\n",
        "    plt.title(\"Dwell time distribution for RSC15 dataset\")\n",
        "    plt.show()\n",
        "    pd_dts.describe()"
      ],
      "execution_count": 13,
      "outputs": []
    },
    {
      "cell_type": "code",
      "metadata": {
        "id": "pPxWD0xPBfVE"
      },
      "source": [
        "def join_dwell_reps(df, dt, threshold=2000):\n",
        "    # Calculate d_ti/threshold + 1 then add column to dataFrame\n",
        "    dt //= threshold\n",
        "    dt += 1   \n",
        "    df['DwellReps'] = pd.Series(dt.astype(np.int64), index=dt.index)"
      ],
      "execution_count": 14,
      "outputs": []
    },
    {
      "cell_type": "code",
      "metadata": {
        "id": "jYX1RjhQ_wZG"
      },
      "source": [
        "def augment(df):    \n",
        "    col_names = list(df.columns.values)[:3]\n",
        "    augmented = np.repeat(df.values, df['DwellReps'], axis=0) \n",
        "    augmented = pd.DataFrame(data=augmented[:,:3],\n",
        "                             columns=col_names)\n",
        "    dtype = {'SessionId': np.int64, \n",
        "             'ItemId': np.int64, \n",
        "             'Time': np.float32}\n",
        "    \n",
        "    for k, v in dtype.items():\n",
        "        augmented[k] = augmented[k].astype(v)                  \n",
        "    \n",
        "    return augmented"
      ],
      "execution_count": 15,
      "outputs": []
    },
    {
      "cell_type": "code",
      "metadata": {
        "id": "veILDG2X_yJm"
      },
      "source": [
        "new_df = preprocess_df(train)\n",
        "dts = compute_dwell_time(new_df)"
      ],
      "execution_count": 16,
      "outputs": []
    },
    {
      "cell_type": "code",
      "metadata": {
        "id": "7xIJMF5aABmF",
        "colab": {
          "base_uri": "https://localhost:8080/",
          "height": 295
        },
        "outputId": "9d8d2cf6-99d9-4da9-807a-c2f982bd611a"
      },
      "source": [
        "# Visualize\n",
        "get_distribution(dts)"
      ],
      "execution_count": 17,
      "outputs": [
        {
          "output_type": "display_data",
          "data": {
            "image/png": "[encoded data removed]",
            "text/plain": [
              "<Figure size 432x288 with 1 Axes>"
            ]
          },
          "metadata": {
            "tags": [],
            "needs_background": "light"
          }
        }
      ]
    },
    {
      "cell_type": "code",
      "metadata": {
        "id": "Y4mZ3YB0Ai4q"
      },
      "source": [
        "# threshold is a hyperparameter\n",
        "join_dwell_reps(new_df, dts, threshold=75)\n",
        "\n",
        "# augment the sessions copying each entry an additional (dwellReps[i]-1) times\n",
        "df_aug = augment(new_df)\n",
        "df_aug.to_csv(\"./data/augmented_train.csv\", index=False, sep='\\t')"
      ],
      "execution_count": 18,
      "outputs": []
    },
    {
      "cell_type": "code",
      "metadata": {
        "id": "X1N36STyCrrs",
        "colab": {
          "base_uri": "https://localhost:8080/"
        },
        "outputId": "2e095a9f-9978-437b-daf9-a4af3324982f"
      },
      "source": [
        "# retrieve 1/n most recent fraction for demo purposes \n",
        "# (note it is a smaller fraction due to the inflation process)\n",
        "fraction = 64*7\n",
        "train_fraction(df_aug, fraction, prefix='aug_train')"
      ],
      "execution_count": 19,
      "outputs": [
        {
          "output_type": "stream",
          "text": [
            "Fractioned data set\n",
            "\tEvents: 151923\n",
            "\tSessions: 16351\n",
            "\tItems: 8484\n",
            "Saved as ./data/aug_train_448.tsv\n"
          ],
          "name": "stdout"
        }
      ]
    },
    {
      "cell_type": "markdown",
      "metadata": {
        "id": "v2E2q1ArD5Sr"
      },
      "source": [
        "## Entrenamiento con Dwell Time"
      ]
    },
    {
      "cell_type": "code",
      "metadata": {
        "id": "HNq8lpRADWZ2",
        "colab": {
          "base_uri": "https://localhost:8080/"
        },
        "outputId": "02a55f55-3dc6-4bd9-9e09-857c3452f9c8"
      },
      "source": [
        "!python src/model/gru4rec.py --epochs 200 --train-path ./data/aug_train_448.tsv --dev-path ./data/validation.tsv --test-path ./data/test.tsv"
      ],
      "execution_count": 20,
      "outputs": [
        {
          "output_type": "stream",
          "text": [
            "Model: \"functional_1\"\n",
            "_________________________________________________________________\n",
            "Layer (type)                 Output Shape              Param #   \n",
            "=================================================================\n",
            "input_1 (InputLayer)         [(512, 1, 8485)]          0         \n",
            "_________________________________________________________________\n",
            "GRU (GRU)                    [(512, 100), (512, 100)]  2576100   \n",
            "_________________________________________________________________\n",
            "dropout (Dropout)            (512, 100)                0         \n",
            "_________________________________________________________________\n",
            "dense (Dense)                (512, 8485)               856985    \n",
            "=================================================================\n",
            "Total params: 3,433,085\n",
            "Trainable params: 3,433,085\n",
            "Non-trainable params: 0\n",
            "_________________________________________________________________\n",
            "Epoch 1. Loss: 7.79541:  97% 15835/16352 [00:20<00:00, 780.45it/s] \n",
            "Epoch 2. Loss: 7.04748:  97% 15835/16352 [00:13<00:00, 1215.36it/s]\n",
            "Epoch 3. Loss: 6.28283:  97% 15835/16352 [00:12<00:00, 1252.48it/s]\n",
            "Epoch 4. Loss: 5.44741:  97% 15835/16352 [00:12<00:00, 1300.65it/s]\n",
            "Epoch 5. Loss: 4.75056:  97% 15835/16352 [00:12<00:00, 1293.94it/s]\n",
            "Epoch 6. Loss: 4.22676:  97% 15835/16352 [00:12<00:00, 1238.72it/s]\n",
            "Epoch 7. Loss: 3.77630:  97% 15835/16352 [00:12<00:00, 1241.92it/s]\n",
            "Epoch 8. Loss: 3.44985:  97% 15835/16352 [00:12<00:00, 1288.23it/s]\n",
            "Epoch 9. Loss: 3.15353:  97% 15835/16352 [00:12<00:00, 1315.91it/s]\n",
            "Epoch 10. Loss: 2.94178:  97% 15835/16352 [00:11<00:00, 1324.33it/s]\n",
            "Epoch 11. Loss: 2.73778:  97% 15835/16352 [00:11<00:00, 1335.58it/s]\n",
            "Epoch 12. Loss: 2.60952:  97% 15835/16352 [00:11<00:00, 1323.66it/s]\n",
            "Epoch 13. Loss: 2.47158:  97% 15835/16352 [00:11<00:00, 1335.92it/s]\n",
            "Epoch 14. Loss: 2.34525:  97% 15835/16352 [00:11<00:00, 1343.71it/s]\n",
            "Epoch 15. Loss: 2.28225:  97% 15835/16352 [00:11<00:00, 1334.40it/s]\n",
            "Epoch 16. Loss: 2.17338:  97% 15835/16352 [00:11<00:00, 1332.34it/s]\n",
            "Epoch 17. Loss: 2.11562:  97% 15835/16352 [00:11<00:00, 1339.76it/s]\n",
            "Epoch 18. Loss: 2.02296:  97% 15835/16352 [00:11<00:00, 1344.35it/s]\n",
            "Epoch 19. Loss: 1.93261:  97% 15835/16352 [00:11<00:00, 1333.54it/s]\n",
            "Epoch 20. Loss: 1.88883:  97% 15835/16352 [00:11<00:00, 1338.92it/s]\n",
            "Epoch 21. Loss: 1.80606:  97% 15835/16352 [00:11<00:00, 1335.19it/s]\n",
            "Epoch 22. Loss: 1.78507:  97% 15835/16352 [00:11<00:00, 1332.85it/s]\n",
            "Epoch 23. Loss: 1.74171:  97% 15835/16352 [00:11<00:00, 1335.42it/s]\n",
            "Epoch 24. Loss: 1.69801:  97% 15835/16352 [00:11<00:00, 1342.65it/s]\n",
            "Epoch 25. Loss: 1.66013:  97% 15835/16352 [00:11<00:00, 1341.08it/s]\n",
            "Epoch 26. Loss: 1.67431:  97% 15835/16352 [00:11<00:00, 1336.96it/s]\n",
            "Epoch 27. Loss: 1.57816:  97% 15835/16352 [00:11<00:00, 1338.29it/s]\n",
            "Epoch 28. Loss: 1.54304:  97% 15835/16352 [00:12<00:00, 1306.00it/s]\n",
            "Epoch 29. Loss: 1.47160:  97% 15835/16352 [00:11<00:00, 1322.10it/s]\n",
            "Epoch 30. Loss: 1.48915:  97% 15835/16352 [00:11<00:00, 1340.01it/s]\n",
            "Epoch 31. Loss: 1.47780:  97% 15835/16352 [00:11<00:00, 1348.01it/s]\n",
            "Epoch 32. Loss: 1.40156:  97% 15835/16352 [00:11<00:00, 1335.40it/s]\n",
            "Epoch 33. Loss: 1.40958:  97% 15835/16352 [00:12<00:00, 1301.66it/s]\n",
            "Epoch 34. Loss: 1.36017:  97% 15835/16352 [00:12<00:00, 1296.69it/s]\n",
            "Epoch 35. Loss: 1.34461:  97% 15835/16352 [00:12<00:00, 1292.54it/s]\n",
            "Epoch 36. Loss: 1.38235:  97% 15835/16352 [00:12<00:00, 1300.72it/s]\n",
            "Epoch 37. Loss: 1.38368:  97% 15835/16352 [00:12<00:00, 1298.13it/s]\n",
            "Epoch 38. Loss: 1.29304:  97% 15835/16352 [00:12<00:00, 1272.63it/s]\n",
            "Epoch 39. Loss: 1.30030:  97% 15835/16352 [00:12<00:00, 1266.58it/s]\n",
            "Epoch 40. Loss: 1.30356:  97% 15835/16352 [00:12<00:00, 1251.81it/s]\n",
            "Epoch 41. Loss: 1.28337:  97% 15835/16352 [00:12<00:00, 1256.33it/s]\n",
            "Epoch 42. Loss: 1.31488:  97% 15835/16352 [00:12<00:00, 1259.68it/s]\n",
            "Epoch 43. Loss: 1.29101:  97% 15835/16352 [00:12<00:00, 1235.20it/s]\n",
            "Epoch 44. Loss: 1.27913:  97% 15835/16352 [00:12<00:00, 1250.43it/s]\n",
            "Epoch 45. Loss: 1.25223:  97% 15835/16352 [00:12<00:00, 1250.46it/s]\n",
            "Epoch 46. Loss: 1.26130:  97% 15835/16352 [00:12<00:00, 1226.75it/s]\n",
            "Epoch 47. Loss: 1.24207:  97% 15835/16352 [00:12<00:00, 1226.92it/s]\n",
            "Epoch 48. Loss: 1.25646:  97% 15835/16352 [00:12<00:00, 1224.53it/s]\n",
            "Epoch 49. Loss: 1.19277:  97% 15835/16352 [00:12<00:00, 1235.30it/s]\n",
            "Epoch 50. Loss: 1.23600:  97% 15835/16352 [00:12<00:00, 1220.59it/s]\n",
            "Epoch 51. Loss: 1.20259:  97% 15835/16352 [00:12<00:00, 1238.85it/s]\n",
            "Epoch 52. Loss: 1.20506:  97% 15835/16352 [00:12<00:00, 1236.79it/s]\n",
            "Epoch 53. Loss: 1.18795:  97% 15835/16352 [00:13<00:00, 1210.11it/s]\n",
            "Epoch 54. Loss: 1.18915:  97% 15835/16352 [00:12<00:00, 1224.64it/s]\n",
            "Epoch 55. Loss: 1.17745:  97% 15835/16352 [00:12<00:00, 1235.82it/s]\n",
            "Epoch 56. Loss: 1.16504:  97% 15835/16352 [00:12<00:00, 1229.85it/s]\n",
            "Epoch 57. Loss: 1.18091:  97% 15835/16352 [00:12<00:00, 1223.55it/s]\n",
            "Epoch 58. Loss: 1.15379:  97% 15835/16352 [00:12<00:00, 1250.14it/s]\n",
            "Epoch 59. Loss: 1.18407:  97% 15835/16352 [00:12<00:00, 1221.72it/s]\n",
            "Epoch 60. Loss: 1.19112:  97% 15835/16352 [00:13<00:00, 1209.49it/s]\n",
            "Epoch 61. Loss: 1.20768:  97% 15835/16352 [00:12<00:00, 1236.89it/s]\n",
            "Epoch 62. Loss: 1.22815:  97% 15835/16352 [00:12<00:00, 1294.78it/s]\n",
            "Epoch 63. Loss: 1.15428:  97% 15835/16352 [00:12<00:00, 1314.31it/s]\n",
            "Epoch 64. Loss: 1.17590:  97% 15835/16352 [00:12<00:00, 1312.80it/s]\n",
            "Epoch 65. Loss: 1.16849:  97% 15835/16352 [00:12<00:00, 1316.36it/s]\n",
            "Epoch 66. Loss: 1.16130:  97% 15835/16352 [00:12<00:00, 1315.74it/s]\n",
            "Epoch 67. Loss: 1.14748:  97% 15835/16352 [00:12<00:00, 1317.08it/s]\n",
            "Epoch 68. Loss: 1.19998:  97% 15835/16352 [00:12<00:00, 1316.46it/s]\n",
            "Epoch 69. Loss: 1.11078:  97% 15835/16352 [00:11<00:00, 1324.01it/s]\n",
            "Epoch 70. Loss: 1.12253:  97% 15835/16352 [00:12<00:00, 1312.84it/s]\n",
            "Epoch 71. Loss: 1.18246:  97% 15835/16352 [00:12<00:00, 1310.79it/s]\n",
            "Epoch 72. Loss: 1.14536:  97% 15835/16352 [00:12<00:00, 1318.05it/s]\n",
            "Epoch 73. Loss: 1.11545:  97% 15835/16352 [00:11<00:00, 1329.09it/s]\n",
            "Epoch 74. Loss: 1.13787:  97% 15835/16352 [00:11<00:00, 1329.43it/s]\n",
            "Epoch 75. Loss: 1.11540:  97% 15835/16352 [00:11<00:00, 1321.48it/s]\n",
            "Epoch 76. Loss: 1.13904:  97% 15835/16352 [00:11<00:00, 1323.47it/s]\n",
            "Epoch 77. Loss: 1.13942:  97% 15835/16352 [00:11<00:00, 1329.52it/s]\n",
            "Epoch 78. Loss: 1.11191:  97% 15835/16352 [00:12<00:00, 1312.99it/s]\n",
            "Epoch 79. Loss: 1.09331:  97% 15835/16352 [00:12<00:00, 1316.69it/s]\n",
            "Epoch 80. Loss: 1.09195:  97% 15835/16352 [00:11<00:00, 1336.63it/s]\n",
            "Epoch 81. Loss: 1.13958:  97% 15835/16352 [00:11<00:00, 1326.42it/s]\n",
            "Epoch 82. Loss: 1.11482:  97% 15835/16352 [00:11<00:00, 1333.03it/s]\n",
            "Epoch 83. Loss: 1.11862:  97% 15835/16352 [00:11<00:00, 1332.88it/s]\n",
            "Epoch 84. Loss: 1.11717:  97% 15835/16352 [00:11<00:00, 1328.72it/s]\n",
            "Epoch 85. Loss: 1.05647:  97% 15835/16352 [00:11<00:00, 1326.66it/s]\n",
            "Epoch 86. Loss: 1.07006:  97% 15835/16352 [00:12<00:00, 1305.24it/s]\n",
            "Epoch 87. Loss: 1.14815:  97% 15835/16352 [00:12<00:00, 1280.16it/s]\n",
            "Epoch 88. Loss: 1.06758:  97% 15835/16352 [00:12<00:00, 1289.65it/s]\n",
            "Epoch 89. Loss: 1.12342:  97% 15835/16352 [00:12<00:00, 1297.69it/s]\n",
            "Epoch 90. Loss: 1.05900:  97% 15835/16352 [00:12<00:00, 1295.73it/s]\n",
            "Epoch 91. Loss: 1.06507:  97% 15835/16352 [00:12<00:00, 1286.91it/s]\n",
            "Epoch 92. Loss: 1.06853:  97% 15835/16352 [00:12<00:00, 1287.55it/s]\n",
            "Epoch 93. Loss: 1.08860:  97% 15835/16352 [00:12<00:00, 1301.64it/s]\n",
            "Epoch 94. Loss: 1.08478:  97% 15835/16352 [00:12<00:00, 1281.53it/s]\n",
            "Epoch 95. Loss: 1.04847:  97% 15835/16352 [00:12<00:00, 1295.68it/s]\n",
            "Epoch 96. Loss: 1.08229:  97% 15835/16352 [00:12<00:00, 1286.63it/s]\n",
            "Epoch 97. Loss: 1.04744:  97% 15835/16352 [00:12<00:00, 1299.96it/s]\n",
            "Epoch 98. Loss: 1.01765:  97% 15835/16352 [00:12<00:00, 1300.96it/s]\n",
            "Epoch 99. Loss: 1.03967:  97% 15835/16352 [00:12<00:00, 1274.87it/s]\n",
            "Epoch 100. Loss: 1.03728:  97% 15835/16352 [00:12<00:00, 1283.18it/s]\n",
            "Epoch 101. Loss: 1.05888:  97% 15835/16352 [00:12<00:00, 1254.65it/s]\n",
            "Epoch 102. Loss: 1.08635:  97% 15835/16352 [00:12<00:00, 1289.52it/s]\n",
            "Epoch 103. Loss: 1.06499:  97% 15835/16352 [00:12<00:00, 1288.26it/s]\n",
            "Epoch 104. Loss: 1.04713:  97% 15835/16352 [00:12<00:00, 1259.83it/s]\n",
            "Epoch 105. Loss: 1.08004:  97% 15835/16352 [00:12<00:00, 1288.06it/s]\n",
            "Epoch 106. Loss: 1.02513:  97% 15835/16352 [00:12<00:00, 1294.08it/s]\n",
            "Epoch 107. Loss: 1.04083:  97% 15835/16352 [00:12<00:00, 1285.42it/s]\n",
            "Epoch 108. Loss: 1.05436:  97% 15835/16352 [00:12<00:00, 1289.44it/s]\n",
            "Epoch 109. Loss: 1.05272:  97% 15835/16352 [00:12<00:00, 1279.53it/s]\n",
            "Epoch 110. Loss: 1.04974:  97% 15835/16352 [00:12<00:00, 1280.80it/s]\n",
            "Epoch 111. Loss: 1.06136:  97% 15835/16352 [00:12<00:00, 1291.16it/s]\n",
            "Epoch 112. Loss: 0.97237:  97% 15835/16352 [00:12<00:00, 1286.65it/s]\n",
            "Epoch 113. Loss: 1.04200:  97% 15835/16352 [00:12<00:00, 1278.92it/s]\n",
            "Epoch 114. Loss: 1.00388:  97% 15835/16352 [00:12<00:00, 1270.99it/s]\n",
            "Epoch 115. Loss: 1.02692:  97% 15835/16352 [00:12<00:00, 1310.15it/s]\n",
            "Epoch 116. Loss: 1.05627:  97% 15835/16352 [00:11<00:00, 1331.59it/s]\n",
            "Epoch 117. Loss: 1.01286:  97% 15835/16352 [00:11<00:00, 1320.40it/s]\n",
            "Epoch 118. Loss: 1.00304:  97% 15835/16352 [00:11<00:00, 1332.30it/s]\n",
            "Epoch 119. Loss: 1.03893:  97% 15835/16352 [00:11<00:00, 1322.04it/s]\n",
            "Epoch 120. Loss: 1.02029:  97% 15835/16352 [00:11<00:00, 1329.17it/s]\n",
            "Epoch 121. Loss: 1.01856:  97% 15835/16352 [00:12<00:00, 1318.94it/s]\n",
            "Epoch 122. Loss: 1.01470:  97% 15835/16352 [00:11<00:00, 1326.83it/s]\n",
            "Epoch 123. Loss: 1.02337:  97% 15835/16352 [00:11<00:00, 1331.18it/s]\n",
            "Epoch 124. Loss: 1.00136:  97% 15835/16352 [00:11<00:00, 1327.56it/s]\n",
            "Epoch 125. Loss: 1.02196:  97% 15835/16352 [00:11<00:00, 1326.07it/s]\n",
            "Epoch 126. Loss: 0.98005:  97% 15835/16352 [00:11<00:00, 1325.81it/s]\n",
            "Epoch 127. Loss: 1.01540:  97% 15835/16352 [00:11<00:00, 1324.11it/s]\n",
            "Epoch 128. Loss: 1.02273:  97% 15835/16352 [00:11<00:00, 1327.15it/s]\n",
            "Epoch 129. Loss: 1.02787:  97% 15835/16352 [00:11<00:00, 1323.04it/s]\n",
            "Epoch 130. Loss: 0.97921:  97% 15835/16352 [00:12<00:00, 1311.48it/s]\n",
            "Epoch 131. Loss: 0.98037:  97% 15835/16352 [00:11<00:00, 1334.15it/s]\n",
            "Epoch 132. Loss: 0.98647:  97% 15835/16352 [00:11<00:00, 1339.47it/s]\n",
            "Epoch 133. Loss: 0.99886:  97% 15835/16352 [00:11<00:00, 1333.14it/s]\n",
            "Epoch 134. Loss: 1.03125:  97% 15835/16352 [00:12<00:00, 1312.04it/s]\n",
            "Epoch 135. Loss: 1.01233:  97% 15835/16352 [00:12<00:00, 1316.61it/s]\n",
            "Epoch 136. Loss: 1.01643:  97% 15835/16352 [00:11<00:00, 1343.47it/s]\n",
            "Epoch 137. Loss: 0.98953:  97% 15835/16352 [00:11<00:00, 1335.02it/s]\n",
            "Epoch 138. Loss: 1.01123:  97% 15835/16352 [00:11<00:00, 1332.15it/s]\n",
            "Epoch 139. Loss: 0.99067:  97% 15835/16352 [00:11<00:00, 1338.50it/s]\n",
            "Epoch 140. Loss: 0.99315:  97% 15835/16352 [00:11<00:00, 1337.58it/s]\n",
            "Epoch 141. Loss: 0.96898:  97% 15835/16352 [00:12<00:00, 1277.93it/s]\n",
            "Epoch 142. Loss: 0.99752:  97% 15835/16352 [00:12<00:00, 1309.59it/s]\n",
            "Epoch 143. Loss: 0.99028:  97% 15835/16352 [00:12<00:00, 1298.14it/s]\n",
            "Epoch 144. Loss: 0.96550:  97% 15835/16352 [00:12<00:00, 1309.53it/s]\n",
            "Epoch 145. Loss: 1.00086:  97% 15835/16352 [00:12<00:00, 1306.51it/s]\n",
            "Epoch 146. Loss: 0.98065:  97% 15835/16352 [00:12<00:00, 1307.68it/s]\n",
            "Epoch 147. Loss: 0.96406:  97% 15835/16352 [00:12<00:00, 1304.81it/s]\n",
            "Epoch 148. Loss: 1.01903:  97% 15835/16352 [00:12<00:00, 1295.00it/s]\n",
            "Epoch 149. Loss: 1.01422:  97% 15835/16352 [00:12<00:00, 1291.81it/s]\n",
            "Epoch 150. Loss: 0.94630:  97% 15835/16352 [00:12<00:00, 1304.86it/s]\n",
            "Epoch 151. Loss: 1.01023:  97% 15835/16352 [00:12<00:00, 1294.42it/s]\n",
            "Epoch 152. Loss: 0.97784:  97% 15835/16352 [00:12<00:00, 1293.55it/s]\n",
            "Epoch 153. Loss: 1.02134:  97% 15835/16352 [00:12<00:00, 1275.79it/s]\n",
            "Epoch 154. Loss: 0.98003:  97% 15835/16352 [00:12<00:00, 1274.34it/s]\n",
            "Epoch 155. Loss: 0.99106:  97% 15835/16352 [00:12<00:00, 1248.77it/s]\n",
            "Epoch 156. Loss: 0.99706:  97% 15835/16352 [00:12<00:00, 1260.18it/s]\n",
            "Epoch 157. Loss: 0.95779:  97% 15835/16352 [00:12<00:00, 1287.07it/s]\n",
            "Epoch 158. Loss: 0.96607:  97% 15835/16352 [00:12<00:00, 1284.65it/s]\n",
            "Epoch 159. Loss: 0.99682:  97% 15835/16352 [00:12<00:00, 1286.59it/s]\n",
            "Epoch 160. Loss: 0.97599:  97% 15835/16352 [00:12<00:00, 1277.79it/s]\n",
            "Epoch 161. Loss: 0.98462:  97% 15835/16352 [00:12<00:00, 1282.39it/s]\n",
            "Epoch 162. Loss: 0.99518:  97% 15835/16352 [00:12<00:00, 1288.10it/s]\n",
            "Epoch 163. Loss: 1.00050:  97% 15835/16352 [00:12<00:00, 1281.47it/s]\n",
            "Epoch 164. Loss: 1.00304:  97% 15835/16352 [00:12<00:00, 1286.49it/s]\n",
            "Epoch 165. Loss: 0.96023:  97% 15835/16352 [00:12<00:00, 1278.32it/s]\n",
            "Epoch 166. Loss: 1.00101:  97% 15835/16352 [00:12<00:00, 1287.41it/s]\n",
            "Epoch 167. Loss: 0.97633:  97% 15835/16352 [00:12<00:00, 1279.58it/s]\n",
            "Epoch 168. Loss: 0.97725:  97% 15835/16352 [00:12<00:00, 1256.31it/s]\n",
            "Epoch 169. Loss: 0.99946:  97% 15835/16352 [00:12<00:00, 1282.30it/s]\n",
            "Epoch 170. Loss: 1.05337:  97% 15835/16352 [00:12<00:00, 1313.94it/s]\n",
            "Epoch 171. Loss: 1.03150:  97% 15835/16352 [00:11<00:00, 1323.96it/s]\n",
            "Epoch 172. Loss: 0.98402:  97% 15835/16352 [00:11<00:00, 1331.74it/s]\n",
            "Epoch 173. Loss: 0.98405:  97% 15835/16352 [00:11<00:00, 1320.29it/s]\n",
            "Epoch 174. Loss: 0.96958:  97% 15835/16352 [00:12<00:00, 1318.68it/s]\n",
            "Epoch 175. Loss: 0.96214:  97% 15835/16352 [00:12<00:00, 1319.38it/s]\n",
            "Epoch 176. Loss: 0.99230:  97% 15835/16352 [00:12<00:00, 1319.09it/s]\n",
            "Epoch 177. Loss: 0.95555:  97% 15835/16352 [00:11<00:00, 1326.22it/s]\n",
            "Epoch 178. Loss: 0.96282:  97% 15835/16352 [00:11<00:00, 1327.65it/s]\n",
            "Epoch 179. Loss: 0.94932:  97% 15835/16352 [00:11<00:00, 1328.08it/s]\n",
            "Epoch 180. Loss: 1.00686:  97% 15835/16352 [00:12<00:00, 1312.24it/s]\n",
            "Epoch 181. Loss: 0.99687:  97% 15835/16352 [00:12<00:00, 1312.24it/s]\n",
            "Epoch 182. Loss: 0.93100:  97% 15835/16352 [00:11<00:00, 1333.56it/s]\n",
            "Epoch 183. Loss: 0.97213:  97% 15835/16352 [00:11<00:00, 1325.58it/s]\n",
            "Epoch 184. Loss: 0.98066:  97% 15835/16352 [00:11<00:00, 1324.31it/s]\n",
            "Epoch 185. Loss: 0.94327:  97% 15835/16352 [00:12<00:00, 1314.17it/s]\n",
            "Epoch 186. Loss: 0.99632:  97% 15835/16352 [00:11<00:00, 1321.43it/s]\n",
            "Epoch 187. Loss: 1.00325:  97% 15835/16352 [00:11<00:00, 1321.84it/s]\n",
            "Epoch 188. Loss: 1.01638:  97% 15835/16352 [00:11<00:00, 1332.45it/s]\n",
            "Epoch 189. Loss: 0.96800:  97% 15835/16352 [00:11<00:00, 1332.19it/s]\n",
            "Epoch 190. Loss: 0.99923:  97% 15835/16352 [00:11<00:00, 1329.31it/s]\n",
            "Epoch 191. Loss: 0.97064:  97% 15835/16352 [00:11<00:00, 1328.64it/s]\n",
            "Epoch 192. Loss: 0.98761:  97% 15835/16352 [00:11<00:00, 1330.34it/s]\n",
            "Epoch 193. Loss: 0.99007:  97% 15835/16352 [00:11<00:00, 1324.20it/s]\n",
            "Epoch 194. Loss: 0.94534:  97% 15835/16352 [00:12<00:00, 1312.92it/s]\n",
            "Epoch 195. Loss: 0.96548:  97% 15835/16352 [00:12<00:00, 1276.11it/s]\n",
            "Epoch 196. Loss: 0.95554:  97% 15835/16352 [00:12<00:00, 1289.32it/s]\n",
            "Epoch 197. Loss: 0.92049:  97% 15835/16352 [00:12<00:00, 1290.85it/s]\n",
            "Epoch 198. Loss: 0.97850:  97% 15835/16352 [00:12<00:00, 1278.73it/s]\n",
            "Epoch 199. Loss: 0.97432:  97% 15835/16352 [00:12<00:00, 1287.04it/s]\n",
            "Evaluating model...\n",
            "\t - Recall@20 epoch 200: 0.507932\n",
            "\t - MRR@20    epoch 200: 0.207930\n",
            "\n"
          ],
          "name": "stdout"
        }
      ]
    },
    {
      "cell_type": "markdown",
      "metadata": {
        "id": "YdMFiWFK65w1"
      },
      "source": [
        "Indique el resultado del modelo con Dwell Time:\n",
        "\n",
        "Luego de 200 épocas, el desempeño del modelo con Dwell Time es cercano a:\n",
        "\n",
        "\t - Recall@20: 0.51\n",
        "\t - MRR@20   : 0.21\n",
        "\n",
        "\n",
        "Esto se traduce en una mejora de aproximadamente 0.04 en ambas métricas respecto del modelo anterior."
      ]
    },
    {
      "cell_type": "code",
      "metadata": {
        "id": "g5nu-yoJnQPQ",
        "outputId": "05e69534-61f6-4fd4-fa51-baa21249269f",
        "colab": {
          "base_uri": "https://localhost:8080/"
        }
      },
      "source": [
        "print(0.507932 - 0.463130)\n",
        "print(0.207930 - 0.163826)"
      ],
      "execution_count": 21,
      "outputs": [
        {
          "output_type": "stream",
          "text": [
            "0.044802000000000064\n",
            "0.044104000000000004\n"
          ],
          "name": "stdout"
        }
      ]
    },
    {
      "cell_type": "code",
      "metadata": {
        "id": "-yEnnhj_wmF4"
      },
      "source": [
        ""
      ],
      "execution_count": null,
      "outputs": []
    }
  ]
}